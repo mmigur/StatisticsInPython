{
 "cells": [
  {
   "cell_type": "code",
   "execution_count": 6,
   "id": "3a14ad8e",
   "metadata": {},
   "outputs": [],
   "source": [
    "import numpy as np\n",
    "import pandas as pd"
   ]
  },
  {
   "cell_type": "markdown",
   "id": "83d51d4e",
   "metadata": {},
   "source": [
    "## Домашнее задание к лекции «Случайные события. Случайные величины»\n",
    "\n",
    "Смоделировать игру против лотерейного автомата типа “777”. Игрок платит 1 руб., после чего выпадает случайное целое число, равномерно распределенное от 0 до 999. При некоторых значениях числа игрок получает выигрыш.\n",
    "\n",
    "* 777: 200 руб.\n",
    "* 999: 100 руб.\n",
    "* 555: 50 руб.\n",
    "* 333: 15 руб.\n",
    "* 111: 10 руб.\n",
    "* *77: 5 руб.\n",
    "* **7: 3 руб.\n",
    "* *00: 2 руб.\n",
    "* **0: 1 руб.\n",
    "\n",
    "#### Вопросы:\n",
    "\n",
    "* Выгодна ли игра игроку?\n",
    "* Сколько в среднем приобретает или теряет игрок за одну игру?"
   ]
  },
  {
   "cell_type": "code",
   "execution_count": 33,
   "id": "6e9a1948",
   "metadata": {},
   "outputs": [],
   "source": [
    "def game_model():\n",
    "    df = pd.DataFrame()\n",
    "        \n",
    "    balance = 0\n",
    "    number_player = 0\n",
    "    trials = 1_000_00\n",
    "    for j in range(trials):\n",
    "        random_number = np.random.randint(0, 1_000)\n",
    "        balance = 0\n",
    "        number_player = j\n",
    "        if random_number == 777:\n",
    "            balance = 200\n",
    "            \n",
    "        elif random_number == 999:\n",
    "            balance = 100\n",
    "\n",
    "        elif random_number == 555:\n",
    "            balance = 50\n",
    "        \n",
    "        elif random_number == 333:\n",
    "            balance = 15\n",
    "        \n",
    "        elif random_number == 111:\n",
    "            balance = 10\n",
    "    \n",
    "        elif random_number % 100 == 77:\n",
    "            balance = 5\n",
    "            \n",
    "        elif random_number % 10 == 7:\n",
    "            balance = 3\n",
    "    \n",
    "        elif random_number % 100 == 0:\n",
    "            balance = 2\n",
    "    \n",
    "        elif random_number % 10 == 0:\n",
    "            balance = 1\n",
    "        \n",
    "        row = {\n",
    "            'number_player': number_player,\n",
    "            'balance': balance\n",
    "        }\n",
    "        df = pd.concat([df, pd.DataFrame([row])])  \n",
    "    return df.reset_index(drop=True)"
   ]
  },
  {
   "cell_type": "code",
   "execution_count": 56,
   "id": "d3a7848d",
   "metadata": {},
   "outputs": [],
   "source": [
    "df = game_model()"
   ]
  },
  {
   "cell_type": "code",
   "execution_count": 64,
   "id": "8682504e",
   "metadata": {},
   "outputs": [
    {
     "data": {
      "text/plain": [
       "0.78874"
      ]
     },
     "execution_count": 64,
     "metadata": {},
     "output_type": "execute_result"
    }
   ],
   "source": [
    "df['balance'].mean()"
   ]
  },
  {
   "cell_type": "markdown",
   "id": "a2214257",
   "metadata": {},
   "source": [
    "### Ответы на вопросы:\n",
    "* 1) Игра не выгодная, так как игрок за игру в среднем получает меньше, стоимости игры.\n",
    "* 2) Средний выигрыш игрока - 0.78"
   ]
  },
  {
   "cell_type": "markdown",
   "id": "796ddfc9",
   "metadata": {},
   "source": [
    "### Теоретически рассчитать средний выигрыш (проигрыш) и сравнить с результатами моделирования"
   ]
  },
  {
   "cell_type": "code",
   "execution_count": 67,
   "id": "896fcd00",
   "metadata": {},
   "outputs": [
    {
     "name": "stdout",
     "output_type": "stream",
     "text": [
      "0.7999999999999999 0.78874\n"
     ]
    }
   ],
   "source": [
    "res = 0.001 * (200 + 100 + 50 + 15 + 10) + (9/1000) * 5 + (10/1000) * 2 + (90 /1000) * 3 + (90/1000) * 1\n",
    "print(res, df['balance'].mean())"
   ]
  },
  {
   "cell_type": "markdown",
   "id": "7429f227",
   "metadata": {},
   "source": [
    "Вывод: средний выигрыш полученный в результате моделирования, оказался очень близок к значению полученному теоритически."
   ]
  },
  {
   "cell_type": "code",
   "execution_count": null,
   "id": "bd713977",
   "metadata": {},
   "outputs": [],
   "source": []
  }
 ],
 "metadata": {
  "kernelspec": {
   "display_name": "Python 3 (ipykernel)",
   "language": "python",
   "name": "python3"
  },
  "language_info": {
   "codemirror_mode": {
    "name": "ipython",
    "version": 3
   },
   "file_extension": ".py",
   "mimetype": "text/x-python",
   "name": "python",
   "nbconvert_exporter": "python",
   "pygments_lexer": "ipython3",
   "version": "3.10.5"
  }
 },
 "nbformat": 4,
 "nbformat_minor": 5
}
