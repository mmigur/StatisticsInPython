{
 "cells": [
  {
   "cell_type": "code",
   "execution_count": 208,
   "id": "57e2ab1d",
   "metadata": {},
   "outputs": [],
   "source": [
    "import pandas as pd\n",
    "import numpy as np\n",
    "import scipy.stats as st\n",
    "import matplotlib.pyplot as plt"
   ]
  },
  {
   "cell_type": "markdown",
   "id": "700bf5f3",
   "metadata": {},
   "source": [
    "# Задания для самостоятельного решения"
   ]
  },
  {
   "cell_type": "markdown",
   "id": "f2126655",
   "metadata": {},
   "source": [
    "<div class=\"alert alert-info\">\n",
    "<b>Задание № 0</b>\n",
    "\n",
    "Найдите минимально необходимый объем выборки для построения интервальной оценки среднего.\n",
    "\n",
    "- желаемая точность $\\Delta$ = 3;\n",
    "- дисперсия $\\sigma^2$  = 225;\n",
    "- уровень доверия $\\beta$ = 0.95.\n",
    "    \n",
    "Ответ округлите до целого\n",
    "</div>"
   ]
  },
  {
   "cell_type": "markdown",
   "id": "bdfe154e",
   "metadata": {},
   "source": [
    "Объем выборки можно расчитать с помощью формулы, найдем Z для 95 процентного интервала, возьмем корень из дисперсии\n",
    "(стандартное отклонение)"
   ]
  },
  {
   "cell_type": "markdown",
   "id": "54dad71e",
   "metadata": {},
   "source": [
    "$$ n = (\\frac{Z*\\sigma}{\\Delta})^2$$\n",
    "- $\\Delta$ - допустимая ошибка/погрешность, \n",
    "\n",
    "- $\\sigma$ - стандартное отклонение, \n",
    "\n",
    "- Z - квантиль нормального распределения"
   ]
  },
  {
   "cell_type": "code",
   "execution_count": 209,
   "id": "eb45042d",
   "metadata": {},
   "outputs": [],
   "source": [
    "delta = 3\n",
    "sigma = np.sqrt(225)\n",
    "Z = 1.96"
   ]
  },
  {
   "cell_type": "code",
   "execution_count": 210,
   "id": "370b2b7b",
   "metadata": {},
   "outputs": [
    {
     "data": {
      "text/plain": [
       "97"
      ]
     },
     "execution_count": 210,
     "metadata": {},
     "output_type": "execute_result"
    }
   ],
   "source": [
    "N = int(np.ceil(((Z * sigma) / delta) ** 2))\n",
    "N"
   ]
  },
  {
   "cell_type": "markdown",
   "id": "f4110607",
   "metadata": {},
   "source": [
    "<div class=\"alert alert-info\">\n",
    "<b>Задание № 1</b>\n",
    "\n",
    "Постройте `98% доверительный интервал` для среднего значения, если известно, что\n",
    "\n",
    "- объем выборки n = 25;\n",
    "- среднее значение по выборке $\\overline x$ = 130;\n",
    "- Из достоверных источников известно стандартное отклонение $\\sigma = 15$.\n",
    "    \n",
    "В ответ укажите длину полученного доверительного интервала (разницу между правым и левым концом), окруленную до целого\n",
    "</div>"
   ]
  },
  {
   "cell_type": "code",
   "execution_count": 211,
   "id": "6f1163b8",
   "metadata": {},
   "outputs": [
    {
     "name": "stdout",
     "output_type": "stream",
     "text": [
      "Разница между правым и левым концом - 69\n"
     ]
    }
   ],
   "source": [
    "ci_lower, ci_upper = st.norm.interval(alpha=0.98,loc=130, scale=15)\n",
    "print(f'Разница между правым и левым концом - {int(ci_upper - ci_lower)}')"
   ]
  },
  {
   "cell_type": "markdown",
   "id": "0e6c49fa",
   "metadata": {},
   "source": [
    "<div class=\"alert alert-info\">\n",
    "<b>Задание № 2</b>\n",
    "\n",
    "Даны две выборки роста мужчин и женщин. \n",
    "- Докажите, используя `t-Тест Стьдента`, что различие между выборками незначительно, если уровень значимости равен $\\alpha$ `= 0.001`.\n",
    "- Покажите различия визуально</div>"
   ]
  },
  {
   "cell_type": "code",
   "execution_count": 212,
   "id": "b55bfbb3",
   "metadata": {},
   "outputs": [],
   "source": [
    "np.random.seed(42)\n",
    "\n",
    "male_height_sample  = st.norm.rvs(loc=171, scale=100, size=150000)  \n",
    "female_height_sample = st.norm.rvs(loc=170, scale=100, size=150000)"
   ]
  },
  {
   "cell_type": "code",
   "execution_count": 213,
   "id": "58024a57",
   "metadata": {},
   "outputs": [
    {
     "name": "stdout",
     "output_type": "stream",
     "text": [
      "Статистика = 3.66358, p = 0.00025\n"
     ]
    }
   ],
   "source": [
    "stat, p = st.ttest_ind(male_height_sample, female_height_sample)\n",
    "print(f\"Статистика = {stat:.5f}, p = {p:.5f}\")"
   ]
  },
  {
   "cell_type": "code",
   "execution_count": 214,
   "id": "971543db",
   "metadata": {},
   "outputs": [
    {
     "name": "stdout",
     "output_type": "stream",
     "text": [
      "Выборки отличаются\n"
     ]
    }
   ],
   "source": [
    "\"\"\"\n",
    "H0 - Выборки не отличаются\n",
    "H1 - Выборки отличаются\n",
    "\"\"\"\n",
    "if p > 0.001:\n",
    "    print('Выборки не отличаются')\n",
    "else:\n",
    "    print('Выборки отличаются')"
   ]
  },
  {
   "cell_type": "code",
   "execution_count": 215,
   "id": "807e118f",
   "metadata": {},
   "outputs": [
    {
     "data": {
      "image/png": "[encoded data removed]",
      "text/plain": [
       "<Figure size 432x288 with 1 Axes>"
      ]
     },
     "metadata": {
      "needs_background": "light"
     },
     "output_type": "display_data"
    }
   ],
   "source": [
    "plt.hist(male_height_sample, bins=120, alpha=0.5);\n",
    "plt.hist(female_height_sample, bins=120, alpha=0.4, color='green');"
   ]
  },
  {
   "cell_type": "markdown",
   "id": "1b007aaf",
   "metadata": {},
   "source": [
    "<div class=\"alert alert-info\">\n",
    "<b>Задание № 3</b>\n",
    "\n",
    "Определите объем необходимой выборки для исследования среднего чека за кофе в случайном городе если известно, что в этом городе:\n",
    "\n",
    "- стандартное отклонение $\\sigma = 150$;\n",
    "- уровень доверия $\\beta$  = 95%;\n",
    "- Погрешность $\\Delta = 50$ рублей.\n",
    "</div>"
   ]
  },
  {
   "cell_type": "markdown",
   "id": "3ab905ea",
   "metadata": {},
   "source": [
    "$$ n = (\\frac{Z*\\sigma}{\\Delta})^2$$\n",
    "- $\\Delta$ - допустимая ошибка/погрешность, \n",
    "\n",
    "- $\\sigma$ - стандартное отклонение, \n",
    "\n",
    "- Z - квантиль нормального распределения"
   ]
  },
  {
   "cell_type": "code",
   "execution_count": 71,
   "id": "59801e08",
   "metadata": {},
   "outputs": [],
   "source": [
    "delta = 50\n",
    "Z = 1.96\n",
    "sigma = 150"
   ]
  },
  {
   "cell_type": "code",
   "execution_count": 216,
   "id": "aea29e7e",
   "metadata": {},
   "outputs": [
    {
     "data": {
      "text/plain": [
       "8"
      ]
     },
     "execution_count": 216,
     "metadata": {},
     "output_type": "execute_result"
    }
   ],
   "source": [
    "N = int(np.ceil((Z * sigma) / 2 ** 2))\n",
    "N"
   ]
  },
  {
   "cell_type": "markdown",
   "id": "d3b2ec0b",
   "metadata": {},
   "source": [
    "<div class=\"alert alert-info\">\n",
    "<b>Задание № 4</b>\n",
    "\n",
    "Представьте, что вы хотите разоблачить \"волшебника\" который считает, что умеет предсказывать погоду на завтра, отвечая просто: дождь или солнце. Вы пронаблюдали за ответами \"волшебника\" в течении какого-то периода времени и получили некие результаты (см.ниже).\n",
    "\n",
    "Можно ли сказать, что маг действительно умеет предсказывать погоду? Уровень значимости принять за `0.05` ($\\alpha=0.05$).\n",
    "</div>"
   ]
  },
  {
   "cell_type": "code",
   "execution_count": 217,
   "id": "ab497054",
   "metadata": {},
   "outputs": [
    {
     "data": {
      "text/html": [
       "<div>\n",
       "<style scoped>\n",
       "    .dataframe tbody tr th:only-of-type {\n",
       "        vertical-align: middle;\n",
       "    }\n",
       "\n",
       "    .dataframe tbody tr th {\n",
       "        vertical-align: top;\n",
       "    }\n",
       "\n",
       "    .dataframe thead th {\n",
       "        text-align: right;\n",
       "    }\n",
       "</style>\n",
       "<table border=\"1\" class=\"dataframe\">\n",
       "  <thead>\n",
       "    <tr style=\"text-align: right;\">\n",
       "      <th></th>\n",
       "      <th>Верные ответы волшебника</th>\n",
       "      <th>Неверные ответы</th>\n",
       "    </tr>\n",
       "  </thead>\n",
       "  <tbody>\n",
       "    <tr>\n",
       "      <th>Дождь</th>\n",
       "      <td>10</td>\n",
       "      <td>15</td>\n",
       "    </tr>\n",
       "    <tr>\n",
       "      <th>Солнце</th>\n",
       "      <td>39</td>\n",
       "      <td>34</td>\n",
       "    </tr>\n",
       "  </tbody>\n",
       "</table>\n",
       "</div>"
      ],
      "text/plain": [
       "        Верные ответы волшебника  Неверные ответы\n",
       "Дождь                         10               15\n",
       "Солнце                        39               34"
      ]
     },
     "execution_count": 217,
     "metadata": {},
     "output_type": "execute_result"
    }
   ],
   "source": [
    "observations = pd.DataFrame([[10, 15],[39, 34]],\n",
    "                            index=['Дождь','Солнце'],\n",
    "                            columns=['Верные ответы волшебника','Неверные ответы'])\n",
    "observations"
   ]
  },
  {
   "cell_type": "code",
   "execution_count": 218,
   "id": "92826695",
   "metadata": {},
   "outputs": [],
   "source": [
    "oddsratio, pvalue = st.fisher_exact(observations)"
   ]
  },
  {
   "cell_type": "code",
   "execution_count": 220,
   "id": "3b453cc7",
   "metadata": {},
   "outputs": [
    {
     "name": "stdout",
     "output_type": "stream",
     "text": [
      "Stat = 0.58120, p = 0.00025\n",
      "Не отклоняем нулевую гипотезу, волшебник не умеет предсказывать погоду \n"
     ]
    }
   ],
   "source": [
    "print(f'Stat = {oddsratio:.5f}, p = {p:.5f}')\n",
    "\n",
    "\"\"\"\n",
    "H0 - Волшебник не умеет предсказывать погоду \n",
    "H1 - Волшебник умеет предсказывать погоду\n",
    "\"\"\"\n",
    "if pvalue > 0.05:\n",
    "    print ( 'Не отклоняем нулевую гипотезу, волшебник не умеет предсказывать погоду ' )\n",
    "else:\n",
    "    print ( 'Отклоняем нулевую гипотезу, волшебник умеет предсказывать погоду')"
   ]
  },
  {
   "cell_type": "markdown",
   "id": "9e73de78",
   "metadata": {},
   "source": [
    "<div class=\"alert alert-info\">\n",
    "<b>Задание № 5</b> \n",
    "\n",
    "Используя функцию mean_confidence_interval(data, confidence), постройте доверительный интервал с уровнем доверия $\\beta = 90\\%$ для выборки:\n",
    "\n",
    "</div>"
   ]
  },
  {
   "cell_type": "code",
   "execution_count": 128,
   "id": "6c23a38b",
   "metadata": {},
   "outputs": [],
   "source": [
    "def mean_confidence_interval(data, confidence=0.95):\n",
    "    n = len(data)\n",
    "    m, se = np.mean(data), st.sem(data)\n",
    "    h = se * st.t.ppf((1 + confidence) / 2, n - 1)\n",
    "    return m - h, m + h"
   ]
  },
  {
   "cell_type": "code",
   "execution_count": 221,
   "id": "ec033223",
   "metadata": {},
   "outputs": [],
   "source": [
    "data = [4,5,8,9,6,7,5,6,7,8,5,6,7,0,9,8,4,6,\n",
    "        7,9,8,6,5,7,8,9,6,7,5,8,6,7,9,5,10]"
   ]
  },
  {
   "cell_type": "code",
   "execution_count": 222,
   "id": "f4d817c9",
   "metadata": {},
   "outputs": [
    {
     "name": "stdout",
     "output_type": "stream",
     "text": [
      "Доверительный интервал с уровнем доверия 90% - (6.07363110319857, 7.183511753944288)\n"
     ]
    }
   ],
   "source": [
    "print(f'Доверительный интервал с уровнем доверия 90% - {mean_confidence_interval(data, confidence=.90)}')"
   ]
  },
  {
   "cell_type": "markdown",
   "id": "3e9d4d37",
   "metadata": {},
   "source": [
    "<div class=\"alert alert-info\">\n",
    "<b>Задание № 6</b>\n",
    "\n",
    "Принадлежат ли выборки `A` и `B` одному множеству? \n",
    "    \n",
    "- Оцените это с помощью известных вам тестов для проверок статистических гипотез;\n",
    "- Покажите различия визуально.\n",
    "</div>"
   ]
  },
  {
   "cell_type": "code",
   "execution_count": 223,
   "id": "ef572804",
   "metadata": {},
   "outputs": [],
   "source": [
    "A = [4,5,8,9,6,7,5,6,7,6,8,5,6,7,8,4,\n",
    "    6,7,9,8,6,5,7,8,6,7,5,6,8,6,7,5,\n",
    "    4,5,8,9,6,7,5,6,7,6,8,5,6,7,8,4,\n",
    "    6,7,9,8,6,5,7,8,6,7,5,6,8,6,7,5,\n",
    "    4,5,8,9,6,7,5,6,7,6,8,5,6,7,8,4,\n",
    "    6,7,9,8,6,5,7,8,6,7,5,6,8,6,7,5,\n",
    "    4,5,8,9,6,7,5,6,7,6,8,5,6,7,8,4]\n",
    "\n",
    "B = [5,6,7,8,4,6,7,2,6,5,7,5,3,5,3,\n",
    "    5,3,5,5,8,7,6,4,5,3,5,4,6,4,5,3,\n",
    "    2,6,4,3,5,4,3,4,5,4,3,4,5,4,3,4,\n",
    "    2,6,4,3,5,4,3,4,5,4,3,4,5,4,3,4,\n",
    "    3,4,4,1,2,4,3,2,4,3,2,1,5,3,4,6,\n",
    "    3,2,4,5,6,4,3,3,5,3,4,4,4,2,5,3]"
   ]
  },
  {
   "cell_type": "code",
   "execution_count": 224,
   "id": "d2faffd2",
   "metadata": {},
   "outputs": [
    {
     "name": "stdout",
     "output_type": "stream",
     "text": [
      "Статистика = 11.86523, p = 0.00025\n",
      "Отклоняем нулевую гипотезу, выборки не принадлежат одному множеству\n"
     ]
    }
   ],
   "source": [
    "\"\"\"\n",
    "H0 - выборки принадлежат одному множеству\n",
    "H1 - выборки не принадлежат одному множеству\n",
    "\"\"\"\n",
    "\n",
    "stat, pvalue = st.ttest_ind(A, B)\n",
    "\n",
    "print(f\"Статистика = {stat:.5f}, p = {p:.5f}\")\n",
    "if pvalue > 0.05:\n",
    "    print(f'Не отклоняем нулевую гипотезу, выборки принадлежат одному множеству')\n",
    "else:\n",
    "    print(f'Отклоняем нулевую гипотезу, выборки не принадлежат одному множеству')"
   ]
  },
  {
   "cell_type": "code",
   "execution_count": 225,
   "id": "3860a3da",
   "metadata": {},
   "outputs": [
    {
     "data": {
      "image/png": "[encoded data removed]",
      "text/plain": [
       "<Figure size 432x288 with 1 Axes>"
      ]
     },
     "metadata": {
      "needs_background": "light"
     },
     "output_type": "display_data"
    }
   ],
   "source": [
    "plt.hist(pd.DataFrame(A), bins=20, alpha=0.5);\n",
    "plt.hist(pd.DataFrame(B), bins=20, alpha=0.5);"
   ]
  },
  {
   "cell_type": "markdown",
   "id": "60ddec00",
   "metadata": {},
   "source": [
    "<div class=\"alert alert-info\">\n",
    "<b>Задание № 7 (задание без подвоха)</b>\n",
    "\n",
    "На примере датасета про жилье в New York City, мы сталкивались с примером, когда переменная имеет не совсем нормальное распределение. \n",
    "\n",
    "- Предположим, Вы сформировали две гипотезы:\n",
    "    - нулевая гипотеза - распределение нормальное;\n",
    "    - альтернативная гипотеза - распределение ненормальное.\n",
    "- допустим, вы применили какой-то тест (сейчас неважно какой), который показал уровень значимости  `p-value = 0.03`. Каковы будут ваши выводы? Будем считать что у нас нормальное распределение или все-таки нет?)\n",
    "    \n",
    "</div>"
   ]
  },
  {
   "cell_type": "markdown",
   "id": "fd52a344",
   "metadata": {},
   "source": [
    "Вывод: мне кажется, то что нужно принят альтернативную гипотезу, уровень значимости 0.03 < 0.05, и плюсом нам надо не совсем нормальное расспределение."
   ]
  },
  {
   "cell_type": "markdown",
   "id": "e4b854f2",
   "metadata": {},
   "source": [
    "<div class=\"alert alert-info\">\n",
    "<b>Задание № 8</b>\n",
    "    \n",
    "Первая выборка — это пациенты, которых лечили препаратом `А`.  Вторая выборка — пациенты, которых лечили препаратом `B`.\n",
    "\n",
    "Значения в выборках — это некоторая характеристика эффективности лечения (уровень метаболита в крови, температура через три дня после начала лечения, срок выздоровления, число койко-дней, и т.д.) \n",
    "\n",
    "- Требуется выяснить, имеется ли значимое различие эффективности препаратов `А` и `B`, или различия являются чисто случайными и объясняются «естественной» дисперсией выбранной характеристики?  (`уровень значимости принять за 0.05 (5%)`)\n",
    "\n",
    "- При каком минимальном p-value различия были бы уже значимы? \n",
    "    \n",
    "- Если выборки незначительно отличаются, то продемонстрируйте это визуально\n",
    "</div>"
   ]
  },
  {
   "cell_type": "code",
   "execution_count": 226,
   "id": "ce2f0b4d",
   "metadata": {},
   "outputs": [],
   "source": [
    "np.random.seed(11)\n",
    "A = st.norm.rvs(scale=15, loc=169, size=300)\n",
    "B = st.norm.rvs(scale=14, loc=171.4, size=300)"
   ]
  },
  {
   "cell_type": "code",
   "execution_count": 227,
   "id": "9d1255f9",
   "metadata": {},
   "outputs": [],
   "source": [
    "H0 = \"различий нет препараты действуют одинаково\"\n",
    "H1 = \"различия и препараты действуют по разному\""
   ]
  },
  {
   "cell_type": "code",
   "execution_count": 228,
   "id": "3443b7b7",
   "metadata": {},
   "outputs": [
    {
     "name": "stdout",
     "output_type": "stream",
     "text": [
      "P-value: 0.051284593140469285\n",
      "Принимаем нулевую гипотезу о том, что: различий нет препараты действуют одинаково\n"
     ]
    }
   ],
   "source": [
    "stat, pvalue = st.ttest_ind(A, B)\n",
    "\n",
    "print(f'P-value: {pvalue}')\n",
    "if pvalue > 0.05:\n",
    "    print(f'Принимаем нулевую гипотезу о том, что: {H0}')\n",
    "else:\n",
    "    print(f'Принимаем альтернативную гипотезу о том, что: {H1}')"
   ]
  },
  {
   "cell_type": "code",
   "execution_count": 229,
   "id": "02b9e6be",
   "metadata": {},
   "outputs": [
    {
     "data": {
      "image/png": "[encoded data removed]",
      "text/plain": [
       "<Figure size 432x288 with 1 Axes>"
      ]
     },
     "metadata": {
      "needs_background": "light"
     },
     "output_type": "display_data"
    }
   ],
   "source": [
    "plt.hist(pd.DataFrame(A), bins=40, alpha=0.5);\n",
    "plt.hist(pd.DataFrame(B), bins=40, alpha=0.5);"
   ]
  },
  {
   "cell_type": "markdown",
   "id": "1b486787",
   "metadata": {},
   "source": [
    "Выборки незначительно отличаются, можно попробовать сгенерировать еще несколько выборок, и тогда мы увидим, что в некоторых случаях мы можем отклонить нулевую гипотезу, но значение p-value становится не намного меньше 0.05, так что по-моему мнению различия являются чисто случайными."
   ]
  },
  {
   "cell_type": "code",
   "execution_count": null,
   "id": "6b2e4c3f",
   "metadata": {},
   "outputs": [],
   "source": []
  }
 ],
 "metadata": {
  "kernelspec": {
   "display_name": "Python 3 (ipykernel)",
   "language": "python",
   "name": "python3"
  },
  "language_info": {
   "codemirror_mode": {
    "name": "ipython",
    "version": 3
   },
   "file_extension": ".py",
   "mimetype": "text/x-python",
   "name": "python",
   "nbconvert_exporter": "python",
   "pygments_lexer": "ipython3",
   "version": "3.10.5"
  }
 },
 "nbformat": 4,
 "nbformat_minor": 5
}
