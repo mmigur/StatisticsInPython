{
 "cells": [
  {
   "cell_type": "code",
   "execution_count": 310,
   "id": "e00d10ba",
   "metadata": {},
   "outputs": [],
   "source": [
    "import pandas as pd\n",
    "import numpy as np\n",
    "import matplotlib\n",
    "import matplotlib.pyplot as plt\n",
    "from scipy import stats\n",
    "from scipy.stats import bartlett\n",
    "matplotlib.style.use('ggplot')\n",
    "%matplotlib inline\n",
    "import seaborn as sns\n",
    "import warnings\n",
    "warnings.filterwarnings('ignore')"
   ]
  },
  {
   "cell_type": "markdown",
   "id": "a5fc0aed",
   "metadata": {},
   "source": [
    "# Покемоны и AB-тестирование \n",
    "(реальный кейс собеседования на позицию Аналитика).\n",
    "\n",
    "\n",
    "# Описание задачи\n",
    "\n",
    "![banner](https://storage.googleapis.com/kaggle-datasets-images/635/1204/126be74882028aac7241553cef0e27a7/dataset-original.jpg)\n",
    "\n",
    "Покемоны - это маленькие существа, которые сражаются друг с другом на соревнованиях. Все покемоны имеют разные характеристики (сила атаки, защиты и т. д.) И относятся к одному или двум так называемым классам (вода, огонь и т. д.).\n",
    "Профессор Оук является изобретателем Pokedex, портативного устройства, которое хранит информацию обо всех существующих покемонах. Как его ведущий специалист по данным, Вы только что получили от него запрос с просьбой осуществить аналитику данных на всех устройствах Pokedex. \n",
    "\n",
    "## Описание набора данных\n",
    "Профессор Оук скопировал все содержимое память одного устройства Pokedex, в результате чего получился набор данных, с которым Вы будете работать в этой задаче. В этом файле каждая строка представляет характеристики одного покемона:\n",
    "\n",
    "* `pid`: Numeric - ID покемона\n",
    "* `HP`: Numeric - Очки здоровья\n",
    "* `Attack`: Numeric - Сила обычной атаки\n",
    "* `Defense`: Numeric - Сила обычной защиты\n",
    "* `Sp. Atk`: Numeric - Сила специальной атаки\n",
    "* `Sp. Def`: Numeric - Сила специальной защиты\n",
    "* `Speed`: Numeric - Скорость движений\n",
    "* `Legendary`: Boolean - «True», если покемон редкий\n",
    "* `Class 1`: Categorical - Класс покемона\n",
    "* `Class 2`: Categorical - Класс покемона"
   ]
  },
  {
   "cell_type": "code",
   "execution_count": 281,
   "id": "c0bca366",
   "metadata": {},
   "outputs": [
    {
     "data": {
      "text/html": [
       "<div>\n",
       "<style scoped>\n",
       "    .dataframe tbody tr th:only-of-type {\n",
       "        vertical-align: middle;\n",
       "    }\n",
       "\n",
       "    .dataframe tbody tr th {\n",
       "        vertical-align: top;\n",
       "    }\n",
       "\n",
       "    .dataframe thead th {\n",
       "        text-align: right;\n",
       "    }\n",
       "</style>\n",
       "<table border=\"1\" class=\"dataframe\">\n",
       "  <thead>\n",
       "    <tr style=\"text-align: right;\">\n",
       "      <th></th>\n",
       "      <th>pid</th>\n",
       "      <th>Name</th>\n",
       "      <th>Class 1</th>\n",
       "      <th>Class 2</th>\n",
       "      <th>HP</th>\n",
       "      <th>Attack</th>\n",
       "      <th>Defense</th>\n",
       "      <th>Sp. Atk</th>\n",
       "      <th>Sp. Def</th>\n",
       "      <th>Speed</th>\n",
       "      <th>Legendary</th>\n",
       "    </tr>\n",
       "  </thead>\n",
       "  <tbody>\n",
       "    <tr>\n",
       "      <th>0</th>\n",
       "      <td>1</td>\n",
       "      <td>Bulbasaur</td>\n",
       "      <td>Grass</td>\n",
       "      <td>Poison</td>\n",
       "      <td>45</td>\n",
       "      <td>49</td>\n",
       "      <td>49</td>\n",
       "      <td>65</td>\n",
       "      <td>65</td>\n",
       "      <td>45</td>\n",
       "      <td>False</td>\n",
       "    </tr>\n",
       "    <tr>\n",
       "      <th>1</th>\n",
       "      <td>2</td>\n",
       "      <td>Ivysaur</td>\n",
       "      <td>Grass</td>\n",
       "      <td>Poison</td>\n",
       "      <td>60</td>\n",
       "      <td>62</td>\n",
       "      <td>63</td>\n",
       "      <td>80</td>\n",
       "      <td>80</td>\n",
       "      <td>60</td>\n",
       "      <td>False</td>\n",
       "    </tr>\n",
       "    <tr>\n",
       "      <th>2</th>\n",
       "      <td>3</td>\n",
       "      <td>Venusaur</td>\n",
       "      <td>Grass</td>\n",
       "      <td>Poison</td>\n",
       "      <td>80</td>\n",
       "      <td>82</td>\n",
       "      <td>83</td>\n",
       "      <td>100</td>\n",
       "      <td>100</td>\n",
       "      <td>80</td>\n",
       "      <td>False</td>\n",
       "    </tr>\n",
       "    <tr>\n",
       "      <th>3</th>\n",
       "      <td>4</td>\n",
       "      <td>Mega Venusaur</td>\n",
       "      <td>Grass</td>\n",
       "      <td>Poison</td>\n",
       "      <td>80</td>\n",
       "      <td>100</td>\n",
       "      <td>123</td>\n",
       "      <td>122</td>\n",
       "      <td>120</td>\n",
       "      <td>80</td>\n",
       "      <td>False</td>\n",
       "    </tr>\n",
       "    <tr>\n",
       "      <th>4</th>\n",
       "      <td>5</td>\n",
       "      <td>Charmander</td>\n",
       "      <td>Fire</td>\n",
       "      <td>NaN</td>\n",
       "      <td>39</td>\n",
       "      <td>52</td>\n",
       "      <td>43</td>\n",
       "      <td>60</td>\n",
       "      <td>50</td>\n",
       "      <td>65</td>\n",
       "      <td>False</td>\n",
       "    </tr>\n",
       "  </tbody>\n",
       "</table>\n",
       "</div>"
      ],
      "text/plain": [
       "   pid           Name Class 1 Class 2  HP  Attack  Defense  Sp. Atk  Sp. Def  \\\n",
       "0    1      Bulbasaur   Grass  Poison  45      49       49       65       65   \n",
       "1    2        Ivysaur   Grass  Poison  60      62       63       80       80   \n",
       "2    3       Venusaur   Grass  Poison  80      82       83      100      100   \n",
       "3    4  Mega Venusaur   Grass  Poison  80     100      123      122      120   \n",
       "4    5     Charmander    Fire     NaN  39      52       43       60       50   \n",
       "\n",
       "   Speed  Legendary  \n",
       "0     45      False  \n",
       "1     60      False  \n",
       "2     80      False  \n",
       "3     80      False  \n",
       "4     65      False  "
      ]
     },
     "execution_count": 281,
     "metadata": {},
     "output_type": "execute_result"
    }
   ],
   "source": [
    "pokemon_df = pd.read_csv('./Data/pokemon.csv')  # Откроем датасет\n",
    "pokemon_df.head()\n",
    "\n",
    "\n",
    "# Обратите внимание, что у покемона может быть один или два класса.\n",
    "# Если у покемона два класса, считается, что они имеют одинаковую значимость."
   ]
  },
  {
   "cell_type": "code",
   "execution_count": 282,
   "id": "f6bd0710",
   "metadata": {},
   "outputs": [
    {
     "name": "stdout",
     "output_type": "stream",
     "text": [
      "<class 'pandas.core.frame.DataFrame'>\n",
      "RangeIndex: 800 entries, 0 to 799\n",
      "Data columns (total 11 columns):\n",
      " #   Column     Non-Null Count  Dtype \n",
      "---  ------     --------------  ----- \n",
      " 0   pid        800 non-null    int64 \n",
      " 1   Name       799 non-null    object\n",
      " 2   Class 1    800 non-null    object\n",
      " 3   Class 2    414 non-null    object\n",
      " 4   HP         800 non-null    int64 \n",
      " 5   Attack     800 non-null    int64 \n",
      " 6   Defense    800 non-null    int64 \n",
      " 7   Sp. Atk    800 non-null    int64 \n",
      " 8   Sp. Def    800 non-null    int64 \n",
      " 9   Speed      800 non-null    int64 \n",
      " 10  Legendary  800 non-null    bool  \n",
      "dtypes: bool(1), int64(7), object(3)\n",
      "memory usage: 63.4+ KB\n"
     ]
    }
   ],
   "source": [
    "pokemon_df.info()"
   ]
  },
  {
   "cell_type": "markdown",
   "id": "0ed79584",
   "metadata": {},
   "source": [
    "# Задачи"
   ]
  },
  {
   "cell_type": "markdown",
   "id": "ad14222c",
   "metadata": {},
   "source": [
    "<div class=\"alert alert-info\">\n",
    "<b>Задание № 1:</b>\n",
    "    \n",
    "Профессор Оук подозревает, что покемоны в классе `grass` имеют более сильную обычную атаку, чем у покемонов в классе `rock`. Проверьте, прав ли он, и убедите его в своем выводе статистически.\n",
    "    \n",
    "    \n",
    "Примечание: если есть покемоны, которые относятся к обоим классам, просто выбросьте их;\n",
    "    \n",
    "Вы можете предположить, что распределение обычных атак является нормальным для всех классов покемонов.\n",
    "\n",
    "</div>"
   ]
  },
  {
   "cell_type": "markdown",
   "id": "47b841a5",
   "metadata": {},
   "source": [
    "Можно сразу выдвинуть 2 гипотезы:\n",
    "\n",
    "* H0 - покемоны класса grass имеют такую же атаку, как и покемоны класса rock\n",
    "* H1 - покемоны класса grass имеют более сильную атаку, чем покемоны класса rock\n",
    "\n",
    "У нас всего 2 выборки, можно провести t-test для двух выборок, т.к распредление выборок нормальное."
   ]
  },
  {
   "cell_type": "code",
   "execution_count": 311,
   "id": "f37323f5",
   "metadata": {},
   "outputs": [],
   "source": [
    "sort_df = pokemon_df[~\n",
    "    ((pokemon_df['Class 1'] == 'Rock') & (pokemon_df['Class 2'] == 'Grass')) |\n",
    "    ((pokemon_df['Class 1'] == 'Grass') & (pokemon_df['Class 2'] == 'Rock'))\n",
    "]\n",
    "\n",
    "grass_class = sort_df[(pokemon_df['Class 1'] == 'Grass') | (pokemon_df['Class 2'] == 'Grass')]\n",
    "rock_class = sort_df[(pokemon_df['Class 1'] == 'Rock') | (pokemon_df['Class 2'] == 'Rock')]"
   ]
  },
  {
   "cell_type": "code",
   "execution_count": 312,
   "id": "edb51966",
   "metadata": {},
   "outputs": [],
   "source": [
    "stat, pvalue = stats.ttest_ind(grass_class['Attack'], rock_class['Attack'])"
   ]
  },
  {
   "cell_type": "code",
   "execution_count": 285,
   "id": "d1242152",
   "metadata": {},
   "outputs": [
    {
     "name": "stdout",
     "output_type": "stream",
     "text": [
      "Среднее значение атаки покемонов класса Grass 73.73118279569893\n",
      "Среднее значение атаки покемонов класса Rock 91.78571428571429\n",
      "Pvalue - 0.00027333381459902664\n",
      "Принимаем альтернативную гипотезу о том, что - покемоны класса grass имеют более сильную атаку, чем покемоны класса rock\n"
     ]
    }
   ],
   "source": [
    "print(f'Среднее значение атаки покемонов класса Grass ' + str(grass_class['Attack'].mean()))\n",
    "print(f'Среднее значение атаки покемонов класса Rock ' + str(rock_class['Attack'].mean()))\n",
    "print(f'Pvalue - {pvalue}')\n",
    "\n",
    "if pvalue > 0.05:\n",
    "    print('Принимаем нулевую гипотезу о том, что - покемоны класса grass имеют такую же атаку, как и покемоны класса rock')\n",
    "else:\n",
    "    print('Принимаем альтернативную гипотезу о том, что - покемоны класса grass имеют более сильную атаку, чем покемоны класса rock')"
   ]
  },
  {
   "cell_type": "markdown",
   "id": "50bc883f",
   "metadata": {},
   "source": [
    "Вывод: мы провели тест и получили уровень значимости равный примерно 0.0002, это значит, то что вероятноть получить такие или более экстремальные значения при условии что верна нулевая гипотеза очень маленький."
   ]
  },
  {
   "cell_type": "markdown",
   "id": "155c4a76",
   "metadata": {},
   "source": [
    "<div class=\"alert alert-info\">\n",
    "<b>Задание № 2:</b>\n",
    "    \n",
    "Профессор Оук уже долго не может спать по ночам ведь его волнует вопрос, а правда, что покемоны что покемоны в классе `Water` в среднем более быстрые, чем покемоны в классе `Normal`. \n",
    "    \n",
    "    \n",
    "Проверьте, прав ли он, и убедите его в своем выводе статистически.\n",
    "    \n",
    "Примечание: если есть покемоны относятся к обоим классам, выбросьте их;\n",
    "    \n",
    "Вы можете предположить, что распределение скорости движения является нормальным для всех классов покемонов.\n",
    "\n",
    "</div>"
   ]
  },
  {
   "cell_type": "markdown",
   "id": "40d036c4",
   "metadata": {},
   "source": [
    "Опять же мы выдвигаем 2 гипотезы:\n",
    "* H0 - покемоны класса Water в среднем одинаковые по скорости с покемонами класса Normal\n",
    "* H1 - покемоны класса Water в среднем быстрее, чем покемоны класса Normal\n",
    "\n",
    "У нас всего 2 выборки, можно провести t-test для двух выборок, т.к распредление выборок нормальное."
   ]
  },
  {
   "cell_type": "code",
   "execution_count": 317,
   "id": "14a98868",
   "metadata": {},
   "outputs": [],
   "source": [
    "sort_df = pokemon_df[~\n",
    "    ((pokemon_df['Class 1'] == 'Water') & (pokemon_df['Class 2'] == 'Normal')) |\n",
    "    ((pokemon_df['Class 1'] == 'Normal') & (pokemon_df['Class 2'] == 'Water'))\n",
    "]\n",
    "\n",
    "water_class = sort_df[(pokemon_df['Class 1'] == 'Water') | (pokemon_df['Class 2'] == 'Water')]\n",
    "normal_class = sort_df[(pokemon_df['Class 1'] == 'Normal') | (pokemon_df['Class 2'] == 'Normal')]"
   ]
  },
  {
   "cell_type": "code",
   "execution_count": 318,
   "id": "313ada22",
   "metadata": {},
   "outputs": [],
   "source": [
    "stat, pvalue = stats.ttest_ind(water_class['Speed'], normal_class['Speed'])"
   ]
  },
  {
   "cell_type": "code",
   "execution_count": 316,
   "id": "e82ccc2a",
   "metadata": {},
   "outputs": [
    {
     "name": "stdout",
     "output_type": "stream",
     "text": [
      "Среднее значение скорости покемонов класса Grass 64.98412698412699\n",
      "Среднее значение скорости покемонов класса Rock 72.24509803921569\n",
      "Pvalue - 0.03245358552652923\n",
      "Принимает альтернативную гипотезу о том, что - покемоны класса water в среднем быстрее, чем покемоны класса Normal\n"
     ]
    }
   ],
   "source": [
    "print(f'Среднее значение скорости покемонов класса Grass ' + str(water_class['Speed'].mean()))\n",
    "print(f'Среднее значение скорости покемонов класса Rock ' + str(normal_class['Speed'].mean()))\n",
    "\n",
    "print(f'Pvalue - {pvalue}')\n",
    "\n",
    "if pvalue > 0.05:\n",
    "    print('Принимаем нулевую гипотезу о том, что - покемоны класса Water в среднем одинаковые по скорости с покемонами класса Normal')\n",
    "else:\n",
    "    print('Принимает альтернативную гипотезу о том, что - покемоны класса water в среднем быстрее, чем покемоны класса Normal')"
   ]
  },
  {
   "cell_type": "markdown",
   "id": "ae6d86f4",
   "metadata": {},
   "source": [
    "Вывод: мы видим различие в средних значениях и наш тест показал уровень значимости < 0.05"
   ]
  },
  {
   "cell_type": "markdown",
   "id": "bebef9e0",
   "metadata": {},
   "source": [
    "<div class=\"alert alert-info\">\n",
    "<b>Задание № 3:</b>\n",
    "    \n",
    "Профессор Оук тот еще безумец. Он изобрел сыворотку, способную ускорить покемона. Однако, мы усомнились в эффективности его вакцины. Професоор дал эту сыворотку следующим покемонам: смотри массив `treathed_pokemon`. Проверьте, работает ли вообще его сыворотка, убедите всех в своем выводе статистически.\n",
    "    \n",
    "    \n",
    "Вы можете предположить, что распределение скорости движения является нормальным для всех классов покемонов.\n",
    "\n",
    "</div>"
   ]
  },
  {
   "cell_type": "markdown",
   "id": "edeaa1de",
   "metadata": {},
   "source": [
    "Формируем 2 гиптозы:\n",
    "* H0 - сыворотка не действует на скорость покемонов\n",
    "* H1 - сыворотка действует на скорость покемонов\n",
    "\n",
    "Можно провести t-test и узнать, есть ли отличия между покемонами в обычном состояние и под сывороткой."
   ]
  },
  {
   "cell_type": "code",
   "execution_count": 289,
   "id": "2300350b",
   "metadata": {},
   "outputs": [],
   "source": [
    "treathed_pokemon = ['Mega Beedrill', 'Mega Alakazam',\n",
    "                    'Deoxys Normal Forme', 'Mega Lopunny']\n",
    "\n",
    "required_n = len(pokemon_df[pokemon_df['Name'].isin(treathed_pokemon)])\n",
    "\n",
    "control_sample = pokemon_df[~pokemon_df['Name'].isin(treathed_pokemon)].sample(n=required_n, random_state=42)\n",
    "treatment_sample = pokemon_df[pokemon_df['Name'].isin(treathed_pokemon)]"
   ]
  },
  {
   "cell_type": "code",
   "execution_count": 290,
   "id": "27be4c65",
   "metadata": {},
   "outputs": [],
   "source": [
    "stats, pvalue = stats.ttest_ind(control_sample['Speed'], treatment_sample['Speed'])"
   ]
  },
  {
   "cell_type": "code",
   "execution_count": 319,
   "id": "0f442c25",
   "metadata": {},
   "outputs": [
    {
     "name": "stdout",
     "output_type": "stream",
     "text": [
      "Среднее значение скорости покемонов на которых не применялась сыворотка 80.0\n",
      "Среднее значение скорости покемонов на которых применялась сыворотка 145.0\n",
      "Pvalue - 0.03245358552652923\n",
      "Мы принимаем альтернативную гипотезу о том, что сыворотка действует на скорость покемонов\n"
     ]
    }
   ],
   "source": [
    "print('Среднее значение скорости покемонов на которых не применялась сыворотка ' + str(control_sample['Speed'].mean()))\n",
    "print('Среднее значение скорости покемонов на которых применялась сыворотка ' + str(treatment_sample['Speed'].mean()))\n",
    "\n",
    "print(f'Pvalue - {pvalue}')\n",
    "\n",
    "if pvalue > 0.05:\n",
    "    print('Мы принимаем нулевую гипотезу о том, что сыворотка не действует на скорость покемонов')\n",
    "else:\n",
    "    print('Мы принимаем альтернативную гипотезу о том, что сыворотка действует на скорость покемонов')"
   ]
  },
  {
   "cell_type": "code",
   "execution_count": 292,
   "id": "e055dd21",
   "metadata": {},
   "outputs": [
    {
     "data": {
      "image/png": "[encoded data removed]",
      "text/plain": [
       "<Figure size 432x288 with 1 Axes>"
      ]
     },
     "metadata": {
      "needs_background": "light"
     },
     "output_type": "display_data"
    }
   ],
   "source": [
    "plt.hist(control_sample['Speed']);\n",
    "plt.hist(treatment_sample['Speed']);"
   ]
  },
  {
   "cell_type": "markdown",
   "id": "60ca488f",
   "metadata": {},
   "source": [
    "Вывод: если провести такой тест для нашей выборки много раз, то мы практически всегда получим низкий уровень значимости, конечно у нас будут исключения когда у покемонов из выборки для которой не применялась сыворотка скорость будет совпадать с выборкой, где покемонам давали сыворотку. Так же мы можем посмотреть на график и увидеть\n",
    "значимые отличия."
   ]
  },
  {
   "cell_type": "markdown",
   "id": "abe92f51",
   "metadata": {},
   "source": [
    "<div class=\"alert alert-info\">\n",
    "<b>Задание № 4:</b>\n",
    "    \n",
    "Профессор Оук всегда любил истории про легендарных покемонов. Однако, профессор не очень уверен, что они самые лучшие относительно остальных покемонов. Оук предложил разобраться в этом нам. Проверьте, действительно ли сумма характеристик `HP`,`Attack`,`Defense` у легендарных покемонов выше, чем у других покемонов? А произведение этих же параметров?? Найдите ответы на эти вопросы и убедите всех в своем выводе статистически.\n",
    "   \n",
    "\n",
    "Вы можете предположить, что распределение сум и произведений этих параметров является нормальным для всех классов покемонов.\n",
    "\n",
    "</div>"
   ]
  },
  {
   "cell_type": "markdown",
   "id": "d79cb263",
   "metadata": {},
   "source": [
    "Составим гипотезы о том, что:\n",
    "* H0 - сумма характеристик обычных покемонов такая же, как у легендарных\n",
    "* H1 - сумма характеристик обычных покемонов отличается от легендарных\n",
    "\n",
    "Составим еще 2 гипотезы, но только с произведением:\n",
    "* H0 - произведение характеристик обычных покемонов такая же, как у легендарных\n",
    "* H1 - произведение характеристик обычных покемонов отличается от легендарных"
   ]
  },
  {
   "cell_type": "code",
   "execution_count": 293,
   "id": "2ee8dd1b",
   "metadata": {},
   "outputs": [],
   "source": [
    "size_legend_pokemon = len(pokemon_df[pokemon_df['Legendary'] == True])"
   ]
  },
  {
   "cell_type": "code",
   "execution_count": 294,
   "id": "8fa48ab7",
   "metadata": {},
   "outputs": [],
   "source": [
    "default_sample = pokemon_df[~pokemon_df['Legendary'] == True].sample(n=size_legend_pokemon, random_state=42)\n",
    "legendary_sample = pokemon_df[pokemon_df['Legendary'] == True]"
   ]
  },
  {
   "cell_type": "code",
   "execution_count": 295,
   "id": "1717bfa3",
   "metadata": {},
   "outputs": [],
   "source": [
    "sum_default_pokemon = default_sample['HP'].sum() + \\\n",
    "                      default_sample['Attack'].sum() + \\\n",
    "                      default_sample['Defense'].sum()\n",
    "\n",
    "mul_default_pokemon = default_sample['HP'].sum() * \\\n",
    "                      default_sample['Attack'].sum() * \\\n",
    "                      default_sample['Defense'].sum()"
   ]
  },
  {
   "cell_type": "code",
   "execution_count": 296,
   "id": "4068f309",
   "metadata": {},
   "outputs": [],
   "source": [
    "sum_legend_pokemon = legendary_sample['HP'].sum() + \\\n",
    "                     legendary_sample['Attack'].sum() + \\\n",
    "                     legendary_sample['Defense'].sum()\n",
    "\n",
    "mul_legend_pokemon = legendary_sample['HP'].sum() * \\\n",
    "                     legendary_sample['Attack'].sum() * \\\n",
    "                     legendary_sample['Defense'].sum()"
   ]
  },
  {
   "cell_type": "code",
   "execution_count": 297,
   "id": "7cf4ae14",
   "metadata": {},
   "outputs": [
    {
     "name": "stdout",
     "output_type": "stream",
     "text": [
      "Произведение храктеристик обычных покемонов = 94541970630\n",
      "Сумма характеристик обычных покемонов = 13680\n",
      "===========================================\n",
      "Произведение храктеристик легендарных покемонов = 296150528256\n",
      "Сумма характеристик легендарных покемонов = 20090\n"
     ]
    }
   ],
   "source": [
    "print(f'Произведение храктеристик обычных покемонов = {mul_default_pokemon}')\n",
    "print(f'Сумма характеристик обычных покемонов = {sum_default_pokemon}')\n",
    "print('===========================================')\n",
    "print(f'Произведение храктеристик легендарных покемонов = {mul_legend_pokemon}')\n",
    "print(f'Сумма характеристик легендарных покемонов = {sum_legend_pokemon}')"
   ]
  },
  {
   "cell_type": "code",
   "execution_count": 298,
   "id": "8a32dc1c",
   "metadata": {},
   "outputs": [
    {
     "name": "stdout",
     "output_type": "stream",
     "text": [
      "Сумма характеристик легендарных покемонов больше чем у обычных\n",
      "Произведение характеристик легендарных покемонов больше чем у обычных\n"
     ]
    }
   ],
   "source": [
    "if sum_default_pokemon > sum_legend_pokemon:\n",
    "    print('Сумма характеристик обычный покемонов больше чем у легендарных')\n",
    "else:\n",
    "    print('Сумма характеристик легендарных покемонов больше чем у обычных')\n",
    "    \n",
    "if mul_default_pokemon > mul_legend_pokemon:\n",
    "    print('Произведение характеристик обычных покемонов больше чем у легендарных')\n",
    "else:\n",
    "    print('Произведение характеристик легендарных покемонов больше чем у обычных')"
   ]
  },
  {
   "cell_type": "markdown",
   "id": "65a26e1d",
   "metadata": {},
   "source": [
    "Вывод: в обоих случаях мы можем отклонить нулевую гипотезу, так как сумма и произведение характеристик у легендарных покемонов, больше чем у обычных"
   ]
  },
  {
   "cell_type": "markdown",
   "id": "666886c3",
   "metadata": {},
   "source": [
    "<div class=\"alert alert-info\">\n",
    "<b>Задание № 5:</b>\n",
    "    \n",
    "Профессор Оук частенько наблюдает за боями покемонов. После очередных таких боев Оук выделил три класса `best_defence_class`, которые на его взгляд одинаковы по \"силе обычной защиты\" `Defense`. Проверьте, действительно ли эти классы покемонов не отличаются по уровню защиты статистически значимо? Все та же статистика вам в помощь! \n",
    "   \n",
    "\n",
    "Вы можете предположить, что распределение сум и произведений этих параметров является нормальным для всех классов покемонов.\n",
    "\n",
    "</div>"
   ]
  },
  {
   "cell_type": "markdown",
   "id": "f68e0899",
   "metadata": {},
   "source": [
    "Выдвигаем 2 гипотезы:\n",
    "* H0 - между классами нет различия в силе защиты \n",
    "* H1 - между классами есть различия в силе защиты\n",
    "\n",
    "Можно провести дисперсионный анализ, т.к выборок больше 2."
   ]
  },
  {
   "cell_type": "code",
   "execution_count": 299,
   "id": "7039d78d",
   "metadata": {},
   "outputs": [],
   "source": [
    "best_defence_class = ['Rock', 'Ground', 'Steel', 'Ice']"
   ]
  },
  {
   "cell_type": "code",
   "execution_count": 320,
   "id": "4a8113ab",
   "metadata": {},
   "outputs": [],
   "source": [
    "min_samples = np.min([\n",
    "    len(sort_df[(pokemon_df['Class 1'] == 'Rock') | (pokemon_df['Class 2'] == 'Rock')]), \n",
    "    len(sort_df[(pokemon_df['Class 1'] == 'Ground') | (pokemon_df['Class 2'] == 'Ground')]),\n",
    "    len(sort_df[(pokemon_df['Class 1'] == 'Steel') | (pokemon_df['Class 2'] == 'Steel')]),\n",
    "    len(sort_df[(pokemon_df['Class 1'] == 'Ice') | (pokemon_df['Class 2'] == 'Ice')])\n",
    "])"
   ]
  },
  {
   "cell_type": "code",
   "execution_count": 321,
   "id": "e6f12893",
   "metadata": {},
   "outputs": [],
   "source": [
    "rock_class_smaple = sort_df[(pokemon_df['Class 1'] == 'Rock') | (pokemon_df['Class 2'] == 'Rock')].sample(n=min_samples)\n",
    "ground_class_smaple = sort_df[(pokemon_df['Class 1'] == 'Ground') | (pokemon_df['Class 2'] == 'Ground')].sample(n=min_samples)\n",
    "steel_class_smaple = sort_df[(pokemon_df['Class 1'] == 'Steel') | (pokemon_df['Class 2'] == 'Steel')].sample(n=min_samples)\n",
    "ice_class_smaple = sort_df[(pokemon_df['Class 1'] == 'Ice') | (pokemon_df['Class 2'] == 'Ice')].sample(n=min_samples)"
   ]
  },
  {
   "cell_type": "code",
   "execution_count": 302,
   "id": "3c58871e",
   "metadata": {},
   "outputs": [],
   "source": [
    "rock_class_smaple['Defense'] = rock_class_smaple['Defense'].astype('float64')\n",
    "ground_class_smaple['Defense'] = ground_class_smaple['Defense'].astype('float64')\n",
    "steel_class_smaple['Defense'] = steel_class_smaple['Defense'].astype('float64')\n",
    "ice_class_smaple['Defense'] = ice_class_smaple['Defense'].astype('float64')"
   ]
  },
  {
   "cell_type": "code",
   "execution_count": 322,
   "id": "fe9c3cbd",
   "metadata": {},
   "outputs": [],
   "source": [
    "stat, pvalue = bartlett(\n",
    "    rock_class_smaple['Defense'],\n",
    "    ground_class_smaple['Defense'],\n",
    "    steel_class_smaple['Defense'],\n",
    "    ice_class_smaple['Defense']\n",
    ")"
   ]
  },
  {
   "cell_type": "code",
   "execution_count": 323,
   "id": "827fa186",
   "metadata": {},
   "outputs": [
    {
     "name": "stdout",
     "output_type": "stream",
     "text": [
      "Pvalue - 0.8944298248477992\n",
      "Принимает нулевую гипотезу о том что, между классами нет различия в силе защиты\n"
     ]
    }
   ],
   "source": [
    "print(f'Pvalue - {pvalue}')\n",
    "\n",
    "if pvalue > 0.05:\n",
    "    print(f'Принимает нулевую гипотезу о том что, между классами нет различия в силе защиты')\n",
    "else:\n",
    "    print(f'Принимаем альтернативную гипотезу о том что, между классами есть различия в силе защиты')"
   ]
  },
  {
   "cell_type": "code",
   "execution_count": 324,
   "id": "92552b90",
   "metadata": {},
   "outputs": [
    {
     "data": {
      "image/png": "[encoded data removed]",
      "text/plain": [
       "<Figure size 432x288 with 1 Axes>"
      ]
     },
     "metadata": {
      "needs_background": "light"
     },
     "output_type": "display_data"
    }
   ],
   "source": [
    "plt.hist(rock_class_smaple['Defense'],alpha=0.5);\n",
    "plt.hist(ground_class_smaple['Defense'],alpha=0.5);\n",
    "plt.hist(steel_class_smaple['Defense'],alpha=0.5);\n",
    "plt.hist(ice_class_smaple['Defense'],alpha=0.5);"
   ]
  },
  {
   "cell_type": "code",
   "execution_count": null,
   "id": "5bcca7d0",
   "metadata": {},
   "outputs": [],
   "source": []
  }
 ],
 "metadata": {
  "kernelspec": {
   "display_name": "Python 3 (ipykernel)",
   "language": "python",
   "name": "python3"
  },
  "language_info": {
   "codemirror_mode": {
    "name": "ipython",
    "version": 3
   },
   "file_extension": ".py",
   "mimetype": "text/x-python",
   "name": "python",
   "nbconvert_exporter": "python",
   "pygments_lexer": "ipython3",
   "version": "3.10.5"
  }
 },
 "nbformat": 4,
 "nbformat_minor": 5
}
