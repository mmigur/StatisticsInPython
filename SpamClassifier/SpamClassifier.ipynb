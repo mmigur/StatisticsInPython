{
 "cells": [
  {
   "cell_type": "code",
   "execution_count": 414,
   "id": "7ffcef9b",
   "metadata": {},
   "outputs": [],
   "source": [
    "import re\n",
    "import pandas as pd\n",
    "import numpy as np\n",
    "import nltk\n",
    "from nltk.corpus import stopwords\n",
    "from nltk.stem import WordNetLemmatizer\n",
    "import matplotlib.pyplot as plt\n",
    "from scipy import stats\n",
    "from sklearn.model_selection import train_test_split\n",
    "from sklearn.linear_model import LogisticRegression\n",
    "from sklearn.metrics import confusion_matrix\n",
    "from sklearn.feature_extraction.text import TfidfVectorizer"
   ]
  },
  {
   "cell_type": "markdown",
   "id": "b578a90a",
   "metadata": {},
   "source": [
    "## Задание 1\n",
    "\n",
    "Вернемся к набору данных о [видеоиграх](https://raw.githubusercontent.com/obulygin/pyda_homeworks/master/stat_case_study/vgsales.csv).\n",
    "\n",
    "Ответьте на следующие вопросы:\n",
    "\n",
    "* Как критики относятся к спортивным играм?\n",
    "* Критикам нравятся больше игры на PC или на PS4?\n",
    "* Критикам больше нравятся стрелялки или стратегии?\n",
    "\n",
    "Для каждого вопроса:\n",
    "\n",
    "* сформулируйте нулевую и альтернативную гипотезы;\n",
    "* выберите пороговый уровень статистической значимости;\n",
    "* опишите полученные результаты статистического теста."
   ]
  },
  {
   "cell_type": "code",
   "execution_count": 415,
   "id": "69d2d136",
   "metadata": {},
   "outputs": [],
   "source": [
    "video_game_df = pd.read_csv('https://raw.githubusercontent.com/obulygin/pyda_homeworks/master/stat_case_study/vgsales.csv')"
   ]
  },
  {
   "cell_type": "markdown",
   "id": "ae0e499d",
   "metadata": {},
   "source": [
    "#### Как критики относятся к спортивным играм?\n",
    "\n",
    "Сформируем гипотезы:\n",
    "* H0 - Критики относятся хорошо к спортивным играм\n",
    "* H1 - Критики относятся плохо к спортивным играм"
   ]
  },
  {
   "cell_type": "code",
   "execution_count": 416,
   "id": "6b51d291",
   "metadata": {},
   "outputs": [],
   "source": [
    "sports_game = video_game_df[video_game_df['Genre'] == 'Sports']"
   ]
  },
  {
   "cell_type": "code",
   "execution_count": 417,
   "id": "9dad7722",
   "metadata": {},
   "outputs": [
    {
     "name": "stdout",
     "output_type": "stream",
     "text": [
      "Среднее значение оценок критиков = 71.97\n"
     ]
    },
    {
     "data": {
      "image/png": "[encoded data removed]",
      "text/plain": [
       "<Figure size 432x288 with 1 Axes>"
      ]
     },
     "metadata": {
      "needs_background": "light"
     },
     "output_type": "display_data"
    }
   ],
   "source": [
    "print('Среднее значение оценок критиков = ' + str(np.round(sports_game['Critic_Score'].mean(), 2)))\n",
    "plt.hist(sports_game['Critic_Score'])\n",
    "plt.title('Распределение оценок критиков поставленные спортивным играм')\n",
    "plt.xlabel('Оценка от 0 - 100')\n",
    "plt.ylabel('Число оценок')\n",
    "plt.show();"
   ]
  },
  {
   "cell_type": "markdown",
   "id": "7a3c21c0",
   "metadata": {},
   "source": [
    "Вывод: на нашей гистограмме мы можем увидеть, что большинство оценок по споривным играм положительные, и еще об этом нам говорит среднее значение, которое равняется 71.97, а это довольно высокая оценка. Следовательно мы можем принять нулевую гипотезу, о том что критики относятся хорошо к спортивным играм ."
   ]
  },
  {
   "cell_type": "markdown",
   "id": "5db6c890",
   "metadata": {},
   "source": [
    "#### Критикам нравятся больше игры на PC или на PS4?\n",
    "* H0 - критикам нравятся больше игры на PS4, чем на PC\n",
    "* H1 - критикам нравятся игры больше на PC, чем на PS4"
   ]
  },
  {
   "cell_type": "code",
   "execution_count": 418,
   "id": "2bd6d04c",
   "metadata": {},
   "outputs": [],
   "source": [
    "pc_sample = video_game_df[video_game_df['Platform'] == 'PC']\n",
    "ps4_sample = video_game_df[video_game_df['Platform'] == 'PS4']"
   ]
  },
  {
   "cell_type": "code",
   "execution_count": 419,
   "id": "a534bd59",
   "metadata": {},
   "outputs": [],
   "source": [
    "stat, pvalue = stats.ttest_ind(\n",
    "    ps4_sample['Critic_Score'].fillna(ps4_sample['Critic_Score'].mean()),\n",
    "    pc_sample['Critic_Score'].fillna(pc_sample['Critic_Score'].mean())\n",
    ")"
   ]
  },
  {
   "cell_type": "code",
   "execution_count": 420,
   "id": "0ca65b3c",
   "metadata": {},
   "outputs": [
    {
     "name": "stdout",
     "output_type": "stream",
     "text": [
      "Pvalue = 0.000000\n",
      "Принимаем альтернативную гипотезу о том, что критикам нравятся игры больше на PC, чем на PS4\n"
     ]
    }
   ],
   "source": [
    "print(f'Pvalue = {pvalue:.6f}')\n",
    "\n",
    "if pvalue > 0.05:\n",
    "    print('Принимаем нулевую гипотезу о том, что критикам нравятся больше игры на PS4, чем на PC')\n",
    "else:\n",
    "    print('Принимаем альтернативную гипотезу о том, что критикам нравятся игры больше на PC, чем на PS4')"
   ]
  },
  {
   "cell_type": "code",
   "execution_count": 421,
   "id": "59caedb5",
   "metadata": {},
   "outputs": [
    {
     "name": "stdout",
     "output_type": "stream",
     "text": [
      "Среднее значение критиков для платформы PC = 75.93\n",
      "Среднее значение критиков для платформы PS4 = 72.09\n"
     ]
    },
    {
     "data": {
      "image/png": "[encoded data removed]",
      "text/plain": [
       "<Figure size 432x288 with 1 Axes>"
      ]
     },
     "metadata": {
      "needs_background": "light"
     },
     "output_type": "display_data"
    }
   ],
   "source": [
    "print('Среднее значение критиков для платформы PC = ' + str(np.round(pc_sample['Critic_Score'].mean(), 2)))\n",
    "print('Среднее значение критиков для платформы PS4 = ' + str(np.round(ps4_sample['Critic_Score'].mean(), 2)))\n",
    "\n",
    "plt.hist(pc_sample['Critic_Score'], color='blue', alpha=0.5);\n",
    "plt.hist(ps4_sample['Critic_Score'], color='green', alpha=0.5);\n",
    "plt.title('Распределение оценок критиков на платформы (PC, PS4)')\n",
    "plt.xlabel('Оценка от 0 - 100')\n",
    "plt.ylabel('Число оценок')\n",
    "plt.legend(['Critic_Score_PC', 'Critic_Score_PS4'])\n",
    "plt.show();"
   ]
  },
  {
   "cell_type": "markdown",
   "id": "fee899e4",
   "metadata": {},
   "source": [
    "Вывод: тест нам не дал особо выводов, посмотрев на средние значения и расспределение мы увидим, что оно совпадает, и отличия только в количестве оценок, тут мы можем сделать вывод, что критикам нравятся игры одинаково на 2 платформах."
   ]
  },
  {
   "cell_type": "markdown",
   "id": "9f13127c",
   "metadata": {},
   "source": [
    "#### Критикам больше нравятся стрелялки или стратегии?\n",
    "* H0 - критикам больше нравятся стрелялки\n",
    "* H1 - критикам больше нравятся стратегии"
   ]
  },
  {
   "cell_type": "code",
   "execution_count": 422,
   "id": "3e75fc53",
   "metadata": {},
   "outputs": [],
   "source": [
    "strategy_sample = video_game_df[video_game_df['Genre'] == 'Strategy']\n",
    "shooter_sample = video_game_df[video_game_df['Genre'] == 'Shooter']"
   ]
  },
  {
   "cell_type": "code",
   "execution_count": 423,
   "id": "5525ca61",
   "metadata": {},
   "outputs": [],
   "source": [
    "stat, pvalue = stats.ttest_ind(\n",
    "    strategy_sample['Critic_Score'].fillna(strategy_sample['Critic_Score'].mean()), \n",
    "    shooter_sample['Critic_Score'].fillna(shooter_sample['Critic_Score'].mean())\n",
    ")"
   ]
  },
  {
   "cell_type": "code",
   "execution_count": 424,
   "id": "bd5ed263",
   "metadata": {},
   "outputs": [
    {
     "name": "stdout",
     "output_type": "stream",
     "text": [
      "Pvalue = 0.000239\n",
      "Принимаем альтернативную гипотезу о том, что критикам больше нравятся стратегии\n"
     ]
    }
   ],
   "source": [
    "print(f'Pvalue = {pvalue:.6f}')\n",
    "\n",
    "if pvalue > 0.05:\n",
    "    print('Принимаем нулевую гипотезу о том, что критикам больше нравятся стрелялки')\n",
    "else:\n",
    "    print('Принимаем альтернативную гипотезу о том, что критикам больше нравятся стратегии')"
   ]
  },
  {
   "cell_type": "code",
   "execution_count": 425,
   "id": "37d17e55",
   "metadata": {},
   "outputs": [
    {
     "name": "stdout",
     "output_type": "stream",
     "text": [
      "Среднее значение критиков для стратегий = 72.09\n",
      "Среднее значение критиков для стрелялок = 70.18\n"
     ]
    },
    {
     "data": {
      "image/png": "[encoded data removed]",
      "text/plain": [
       "<Figure size 432x288 with 1 Axes>"
      ]
     },
     "metadata": {
      "needs_background": "light"
     },
     "output_type": "display_data"
    }
   ],
   "source": [
    "print('Среднее значение критиков для стратегий = ' + str(np.round(strategy_sample['Critic_Score'].mean(), 2)))\n",
    "print('Среднее значение критиков для стрелялок = ' + str(np.round(shooter_sample['Critic_Score'].mean(), 2)))\n",
    "\n",
    "plt.hist(strategy_sample['Critic_Score'], color='blue', alpha=0.5);\n",
    "plt.hist(shooter_sample['Critic_Score'], color='green', alpha=0.5);\n",
    "plt.title('Распределение оценок критиков на жанры (стратегии, стрелялки)')\n",
    "plt.xlabel('Оценка от 0 - 100')\n",
    "plt.ylabel('Число оценок')\n",
    "plt.legend(['Strategy_Score', 'Shooter_Score'])\n",
    "plt.show();"
   ]
  },
  {
   "cell_type": "markdown",
   "id": "b99ef2af",
   "metadata": {},
   "source": [
    "Вывод: такой же как и в прошлом кейсе, сказать то что критики больше любят стратегии мы не можем, хоть тест показал\n",
    "уровень значимости < 0.05, так же по графику мы можем видеть что отличия есть лишь в количестве голосов."
   ]
  },
  {
   "cell_type": "markdown",
   "id": "7e8dddba",
   "metadata": {},
   "source": [
    "## Задание 2\n",
    "\n",
    "Реализуйте базовую модель логистической регрессии для классификации текстовых сообщений (используемые данные [здесь](https://raw.githubusercontent.com/obulygin/pyda_homeworks/master/stat_case_study/spam.csv)) по признаку спама. Для этого:\n",
    "\n",
    "* 1) Привидите весь текст к нижнему регистру;\n",
    "* 2) Удалите мусорные символы;\n",
    "* 3) Удалите стоп-слова;\n",
    "* 4) Привидите все слова к нормальной форме;\n",
    "* 5) Преобразуйте все сообщения в вектора TF-IDF. Вам поможет следующий код:\n",
    "\n",
    "```python\n",
    "    from sklearn.feature_extraction.text import TfidfVectorizer\n",
    "\n",
    "    tfidf = TfidfVectorizer()\n",
    "    tfidf_matrix = tfidf.fit_transform(df.Message)\n",
    "    names = tfidf.get_feature_names_out()\n",
    "    tfidf_matrix = pd.DataFrame(tfidf_matrix.toarray(), columns=names)\n",
    "```\n",
    "\n",
    "Можете поэкспериментировать с параметрами [TfidfVectorizer](https://scikit-learn.org/stable/modules/generated/sklearn.feature_extraction.text.TfidfVectorizer.html);\n",
    "\n",
    "* 6) Разделите данные на тестовые и тренировочные в соотношении 30/70, укажите random_state=42. Используйте [train_test_split](https://scikit-learn.org/stable/modules/generated/sklearn.model_selection.train_test_split.html);\n",
    "* 7) Постройте модель [логистической регрессии](https://scikit-learn.org/stable/modules/generated/sklearn.linear_model.LogisticRegression.html), укажите random_state=42, оцените ее точность на тестовых данных;\n",
    "* 8) Опишите результаты при помощи [confusion_matrix](https://scikit-learn.org/stable/modules/generated/sklearn.metrics.confusion_matrix.html?highlight=confusion_matrix#sklearn.metrics.confusion_matrix);\n",
    "* 9) Постройте датафрейм, который будет содержать все исходные тексты сообщений, классифицированные неправильно (с указанием фактического и предсказанного)."
   ]
  },
  {
   "cell_type": "code",
   "execution_count": 451,
   "id": "56d6d358",
   "metadata": {},
   "outputs": [
    {
     "data": {
      "text/html": [
       "<div>\n",
       "<style scoped>\n",
       "    .dataframe tbody tr th:only-of-type {\n",
       "        vertical-align: middle;\n",
       "    }\n",
       "\n",
       "    .dataframe tbody tr th {\n",
       "        vertical-align: top;\n",
       "    }\n",
       "\n",
       "    .dataframe thead th {\n",
       "        text-align: right;\n",
       "    }\n",
       "</style>\n",
       "<table border=\"1\" class=\"dataframe\">\n",
       "  <thead>\n",
       "    <tr style=\"text-align: right;\">\n",
       "      <th></th>\n",
       "      <th>Category</th>\n",
       "      <th>Message</th>\n",
       "      <th>index</th>\n",
       "    </tr>\n",
       "  </thead>\n",
       "  <tbody>\n",
       "    <tr>\n",
       "      <th>0</th>\n",
       "      <td>ham</td>\n",
       "      <td>Go until jurong point, crazy.. Available only ...</td>\n",
       "      <td>0</td>\n",
       "    </tr>\n",
       "    <tr>\n",
       "      <th>1</th>\n",
       "      <td>ham</td>\n",
       "      <td>Ok lar... Joking wif u oni...</td>\n",
       "      <td>1</td>\n",
       "    </tr>\n",
       "    <tr>\n",
       "      <th>2</th>\n",
       "      <td>spam</td>\n",
       "      <td>Free entry in 2 a wkly comp to win FA Cup fina...</td>\n",
       "      <td>2</td>\n",
       "    </tr>\n",
       "    <tr>\n",
       "      <th>3</th>\n",
       "      <td>ham</td>\n",
       "      <td>U dun say so early hor... U c already then say...</td>\n",
       "      <td>3</td>\n",
       "    </tr>\n",
       "    <tr>\n",
       "      <th>4</th>\n",
       "      <td>ham</td>\n",
       "      <td>Nah I don't think he goes to usf, he lives aro...</td>\n",
       "      <td>4</td>\n",
       "    </tr>\n",
       "  </tbody>\n",
       "</table>\n",
       "</div>"
      ],
      "text/plain": [
       "  Category                                            Message  index\n",
       "0      ham  Go until jurong point, crazy.. Available only ...      0\n",
       "1      ham                      Ok lar... Joking wif u oni...      1\n",
       "2     spam  Free entry in 2 a wkly comp to win FA Cup fina...      2\n",
       "3      ham  U dun say so early hor... U c already then say...      3\n",
       "4      ham  Nah I don't think he goes to usf, he lives aro...      4"
      ]
     },
     "execution_count": 451,
     "metadata": {},
     "output_type": "execute_result"
    }
   ],
   "source": [
    "spam_df = pd.read_csv('https://raw.githubusercontent.com/obulygin/pyda_homeworks/master/stat_case_study/spam.csv')\n",
    "spam_df['index'] = spam_df.index.values\n",
    "spam_df.head()"
   ]
  },
  {
   "cell_type": "markdown",
   "id": "aa77c4eb",
   "metadata": {},
   "source": [
    "### 1) Привести текст к нижнему регистру."
   ]
  },
  {
   "cell_type": "code",
   "execution_count": 452,
   "id": "4cca19e3",
   "metadata": {},
   "outputs": [],
   "source": [
    "spam_df['Message'] = spam_df['Message'].apply(str.lower)"
   ]
  },
  {
   "cell_type": "markdown",
   "id": "8d919923",
   "metadata": {},
   "source": [
    "### 2) Удалить мусорные символы"
   ]
  },
  {
   "cell_type": "code",
   "execution_count": 453,
   "id": "4770d14a",
   "metadata": {},
   "outputs": [],
   "source": [
    "spam_df['Message'] = [re.sub('[\\W_]+', ' ', text) for text in spam_df['Message']]"
   ]
  },
  {
   "cell_type": "markdown",
   "id": "b832a1c7",
   "metadata": {},
   "source": [
    "### 3) Удалить стоп слова"
   ]
  },
  {
   "cell_type": "code",
   "execution_count": 454,
   "id": "ccc3d84f",
   "metadata": {},
   "outputs": [
    {
     "name": "stderr",
     "output_type": "stream",
     "text": [
      "[nltk_data] Downloading package stopwords to\n",
      "[nltk_data]     /Users/maksimmigur/nltk_data...\n",
      "[nltk_data]   Package stopwords is already up-to-date!\n"
     ]
    }
   ],
   "source": [
    "nltk.download('stopwords')\n",
    "stopwords_set = set(stopwords.words('english'))"
   ]
  },
  {
   "cell_type": "code",
   "execution_count": 455,
   "id": "b9ebf511",
   "metadata": {},
   "outputs": [],
   "source": [
    "spam_df['Message'] = [text.split(' ') for text in spam_df['Message']]"
   ]
  },
  {
   "cell_type": "code",
   "execution_count": 456,
   "id": "6f3da4fd",
   "metadata": {},
   "outputs": [],
   "source": [
    "spam_df['Message'] = [[word for word in text if word not in stopwords_set] for text in spam_df['Message']]"
   ]
  },
  {
   "cell_type": "markdown",
   "id": "0de7b1cd",
   "metadata": {},
   "source": [
    "### 4) Привести все слова к нормальной форме (Лемматизация)"
   ]
  },
  {
   "cell_type": "code",
   "execution_count": 457,
   "id": "00a47192",
   "metadata": {},
   "outputs": [
    {
     "name": "stderr",
     "output_type": "stream",
     "text": [
      "[nltk_data] Downloading package omw-1.4 to\n",
      "[nltk_data]     /Users/maksimmigur/nltk_data...\n",
      "[nltk_data]   Package omw-1.4 is already up-to-date!\n",
      "[nltk_data] Downloading package wordnet to\n",
      "[nltk_data]     /Users/maksimmigur/nltk_data...\n",
      "[nltk_data]   Package wordnet is already up-to-date!\n"
     ]
    },
    {
     "data": {
      "text/plain": [
       "True"
      ]
     },
     "execution_count": 457,
     "metadata": {},
     "output_type": "execute_result"
    }
   ],
   "source": [
    "nltk.download('omw-1.4')\n",
    "nltk.download('wordnet')"
   ]
  },
  {
   "cell_type": "code",
   "execution_count": 458,
   "id": "e90cb1f6",
   "metadata": {},
   "outputs": [],
   "source": [
    "word_lemmatizer = WordNetLemmatizer()\n",
    "spam_df['Message'] = [[word_lemmatizer.lemmatize(word) for word in text] for text in spam_df['Message']]"
   ]
  },
  {
   "cell_type": "code",
   "execution_count": 459,
   "id": "c43010f4",
   "metadata": {},
   "outputs": [
    {
     "data": {
      "text/html": [
       "<div>\n",
       "<style scoped>\n",
       "    .dataframe tbody tr th:only-of-type {\n",
       "        vertical-align: middle;\n",
       "    }\n",
       "\n",
       "    .dataframe tbody tr th {\n",
       "        vertical-align: top;\n",
       "    }\n",
       "\n",
       "    .dataframe thead th {\n",
       "        text-align: right;\n",
       "    }\n",
       "</style>\n",
       "<table border=\"1\" class=\"dataframe\">\n",
       "  <thead>\n",
       "    <tr style=\"text-align: right;\">\n",
       "      <th></th>\n",
       "      <th>Category</th>\n",
       "      <th>Message</th>\n",
       "      <th>index</th>\n",
       "    </tr>\n",
       "  </thead>\n",
       "  <tbody>\n",
       "    <tr>\n",
       "      <th>0</th>\n",
       "      <td>ham</td>\n",
       "      <td>[go, jurong, point, crazy, available, bugis, n...</td>\n",
       "      <td>0</td>\n",
       "    </tr>\n",
       "    <tr>\n",
       "      <th>1</th>\n",
       "      <td>ham</td>\n",
       "      <td>[ok, lar, joking, wif, u, oni, ]</td>\n",
       "      <td>1</td>\n",
       "    </tr>\n",
       "    <tr>\n",
       "      <th>2</th>\n",
       "      <td>spam</td>\n",
       "      <td>[free, entry, 2, wkly, comp, win, fa, cup, fin...</td>\n",
       "      <td>2</td>\n",
       "    </tr>\n",
       "    <tr>\n",
       "      <th>3</th>\n",
       "      <td>ham</td>\n",
       "      <td>[u, dun, say, early, hor, u, c, already, say, ]</td>\n",
       "      <td>3</td>\n",
       "    </tr>\n",
       "    <tr>\n",
       "      <th>4</th>\n",
       "      <td>ham</td>\n",
       "      <td>[nah, think, go, usf, life, around, though]</td>\n",
       "      <td>4</td>\n",
       "    </tr>\n",
       "  </tbody>\n",
       "</table>\n",
       "</div>"
      ],
      "text/plain": [
       "  Category                                            Message  index\n",
       "0      ham  [go, jurong, point, crazy, available, bugis, n...      0\n",
       "1      ham                   [ok, lar, joking, wif, u, oni, ]      1\n",
       "2     spam  [free, entry, 2, wkly, comp, win, fa, cup, fin...      2\n",
       "3      ham    [u, dun, say, early, hor, u, c, already, say, ]      3\n",
       "4      ham        [nah, think, go, usf, life, around, though]      4"
      ]
     },
     "execution_count": 459,
     "metadata": {},
     "output_type": "execute_result"
    }
   ],
   "source": [
    "spam_df.head()"
   ]
  },
  {
   "cell_type": "markdown",
   "id": "6fa4c5ae",
   "metadata": {},
   "source": [
    "### 5) Преобразовать все сообщения в вектора TF-IDF"
   ]
  },
  {
   "cell_type": "code",
   "execution_count": 460,
   "id": "a1937ab9",
   "metadata": {},
   "outputs": [],
   "source": [
    "spam_df['Message'] = [' '.join(text) for text in spam_df['Message']]"
   ]
  },
  {
   "cell_type": "code",
   "execution_count": 461,
   "id": "101e0c2a",
   "metadata": {},
   "outputs": [],
   "source": [
    "tfidf = TfidfVectorizer()\n",
    "tfidf_matrix = tfidf.fit_transform(spam_df['Message'])\n",
    "names = tfidf.get_feature_names_out()\n",
    "tfidf_matrix = pd.DataFrame(tfidf_matrix.toarray(), columns=names)"
   ]
  },
  {
   "cell_type": "markdown",
   "id": "273fe806",
   "metadata": {},
   "source": [
    "### 6) Разделить данные на тестовую и тренировочную выборку в соотношение 30/70."
   ]
  },
  {
   "cell_type": "code",
   "execution_count": 462,
   "id": "e645cdd6",
   "metadata": {},
   "outputs": [],
   "source": [
    "X = tfidf_matrix\n",
    "y = spam_df['Category']"
   ]
  },
  {
   "cell_type": "code",
   "execution_count": 463,
   "id": "1220b7e9",
   "metadata": {},
   "outputs": [],
   "source": [
    "X_train, X_test, y_train, y_test = train_test_split(X, y, test_size=0.30, random_state=42)"
   ]
  },
  {
   "cell_type": "markdown",
   "id": "8637b784",
   "metadata": {},
   "source": [
    "### 7) Построить модель логистической регрессии, и оценить ее точность на тестовых данных."
   ]
  },
  {
   "cell_type": "code",
   "execution_count": 464,
   "id": "519606e5",
   "metadata": {},
   "outputs": [],
   "source": [
    "logistic_reg_model = LogisticRegression(random_state=42)"
   ]
  },
  {
   "cell_type": "code",
   "execution_count": 465,
   "id": "38ca1b4e",
   "metadata": {},
   "outputs": [
    {
     "data": {
      "text/html": [
       "<style>#sk-container-id-4 {color: black;background-color: white;}#sk-container-id-4 pre{padding: 0;}#sk-container-id-4 div.sk-toggleable {background-color: white;}#sk-container-id-4 label.sk-toggleable__label {cursor: pointer;display: block;width: 100%;margin-bottom: 0;padding: 0.3em;box-sizing: border-box;text-align: center;}#sk-container-id-4 label.sk-toggleable__label-arrow:before {content: \"▸\";float: left;margin-right: 0.25em;color: #696969;}#sk-container-id-4 label.sk-toggleable__label-arrow:hover:before {color: black;}#sk-container-id-4 div.sk-estimator:hover label.sk-toggleable__label-arrow:before {color: black;}#sk-container-id-4 div.sk-toggleable__content {max-height: 0;max-width: 0;overflow: hidden;text-align: left;background-color: #f0f8ff;}#sk-container-id-4 div.sk-toggleable__content pre {margin: 0.2em;color: black;border-radius: 0.25em;background-color: #f0f8ff;}#sk-container-id-4 input.sk-toggleable__control:checked~div.sk-toggleable__content {max-height: 200px;max-width: 100%;overflow: auto;}#sk-container-id-4 input.sk-toggleable__control:checked~label.sk-toggleable__label-arrow:before {content: \"▾\";}#sk-container-id-4 div.sk-estimator input.sk-toggleable__control:checked~label.sk-toggleable__label {background-color: #d4ebff;}#sk-container-id-4 div.sk-label input.sk-toggleable__control:checked~label.sk-toggleable__label {background-color: #d4ebff;}#sk-container-id-4 input.sk-hidden--visually {border: 0;clip: rect(1px 1px 1px 1px);clip: rect(1px, 1px, 1px, 1px);height: 1px;margin: -1px;overflow: hidden;padding: 0;position: absolute;width: 1px;}#sk-container-id-4 div.sk-estimator {font-family: monospace;background-color: #f0f8ff;border: 1px dotted black;border-radius: 0.25em;box-sizing: border-box;margin-bottom: 0.5em;}#sk-container-id-4 div.sk-estimator:hover {background-color: #d4ebff;}#sk-container-id-4 div.sk-parallel-item::after {content: \"\";width: 100%;border-bottom: 1px solid gray;flex-grow: 1;}#sk-container-id-4 div.sk-label:hover label.sk-toggleable__label {background-color: #d4ebff;}#sk-container-id-4 div.sk-serial::before {content: \"\";position: absolute;border-left: 1px solid gray;box-sizing: border-box;top: 0;bottom: 0;left: 50%;z-index: 0;}#sk-container-id-4 div.sk-serial {display: flex;flex-direction: column;align-items: center;background-color: white;padding-right: 0.2em;padding-left: 0.2em;position: relative;}#sk-container-id-4 div.sk-item {position: relative;z-index: 1;}#sk-container-id-4 div.sk-parallel {display: flex;align-items: stretch;justify-content: center;background-color: white;position: relative;}#sk-container-id-4 div.sk-item::before, #sk-container-id-4 div.sk-parallel-item::before {content: \"\";position: absolute;border-left: 1px solid gray;box-sizing: border-box;top: 0;bottom: 0;left: 50%;z-index: -1;}#sk-container-id-4 div.sk-parallel-item {display: flex;flex-direction: column;z-index: 1;position: relative;background-color: white;}#sk-container-id-4 div.sk-parallel-item:first-child::after {align-self: flex-end;width: 50%;}#sk-container-id-4 div.sk-parallel-item:last-child::after {align-self: flex-start;width: 50%;}#sk-container-id-4 div.sk-parallel-item:only-child::after {width: 0;}#sk-container-id-4 div.sk-dashed-wrapped {border: 1px dashed gray;margin: 0 0.4em 0.5em 0.4em;box-sizing: border-box;padding-bottom: 0.4em;background-color: white;}#sk-container-id-4 div.sk-label label {font-family: monospace;font-weight: bold;display: inline-block;line-height: 1.2em;}#sk-container-id-4 div.sk-label-container {text-align: center;}#sk-container-id-4 div.sk-container {/* jupyter's `normalize.less` sets `[hidden] { display: none; }` but bootstrap.min.css set `[hidden] { display: none !important; }` so we also need the `!important` here to be able to override the default hidden behavior on the sphinx rendered scikit-learn.org. See: https://github.com/scikit-learn/scikit-learn/issues/21755 */display: inline-block !important;position: relative;}#sk-container-id-4 div.sk-text-repr-fallback {display: none;}</style><div id=\"sk-container-id-4\" class=\"sk-top-container\"><div class=\"sk-text-repr-fallback\"><pre>LogisticRegression(random_state=42)</pre><b>In a Jupyter environment, please rerun this cell to show the HTML representation or trust the notebook. <br />On GitHub, the HTML representation is unable to render, please try loading this page with nbviewer.org.</b></div><div class=\"sk-container\" hidden><div class=\"sk-item\"><div class=\"sk-estimator sk-toggleable\"><input class=\"sk-toggleable__control sk-hidden--visually\" id=\"sk-estimator-id-4\" type=\"checkbox\" checked><label for=\"sk-estimator-id-4\" class=\"sk-toggleable__label sk-toggleable__label-arrow\">LogisticRegression</label><div class=\"sk-toggleable__content\"><pre>LogisticRegression(random_state=42)</pre></div></div></div></div></div>"
      ],
      "text/plain": [
       "LogisticRegression(random_state=42)"
      ]
     },
     "execution_count": 465,
     "metadata": {},
     "output_type": "execute_result"
    }
   ],
   "source": [
    "logistic_reg_model.fit(X_train, y_train)"
   ]
  },
  {
   "cell_type": "code",
   "execution_count": 466,
   "id": "9e92d295",
   "metadata": {},
   "outputs": [],
   "source": [
    "y_predict = logistic_reg_model.predict(X_test)"
   ]
  },
  {
   "cell_type": "code",
   "execution_count": 467,
   "id": "3b107486",
   "metadata": {},
   "outputs": [
    {
     "data": {
      "text/plain": [
       "0.958732057416268"
      ]
     },
     "execution_count": 467,
     "metadata": {},
     "output_type": "execute_result"
    }
   ],
   "source": [
    "logistic_reg_model.score(X_test, y_test)"
   ]
  },
  {
   "cell_type": "markdown",
   "id": "7901cacb",
   "metadata": {},
   "source": [
    "### 8) Оценить результаты при помощи confusion_matrix"
   ]
  },
  {
   "cell_type": "code",
   "execution_count": 468,
   "id": "afcdeab5",
   "metadata": {},
   "outputs": [],
   "source": [
    "tn, fp, fn, tp = confusion_matrix(\n",
    "    y_true=y_test,\n",
    "    y_pred=y_predict\n",
    ").ravel()"
   ]
  },
  {
   "cell_type": "code",
   "execution_count": 469,
   "id": "15b759c9",
   "metadata": {},
   "outputs": [
    {
     "data": {
      "text/plain": [
       "(1445, 3, 66, 158)"
      ]
     },
     "execution_count": 469,
     "metadata": {},
     "output_type": "execute_result"
    }
   ],
   "source": [
    "tn, fp, fn, tp"
   ]
  },
  {
   "cell_type": "markdown",
   "id": "c7cc514c",
   "metadata": {},
   "source": [
    "Вывод: модель 1455 раз предсказала неправильный клаcc верно, 3 раза предсказала неверно положительный класс, 66 раз неверно отрицательный класс, 158 верно положительный."
   ]
  },
  {
   "cell_type": "markdown",
   "id": "0e4cb916",
   "metadata": {},
   "source": [
    "### 9) Построить датафрейм, который будет содержать все исходные тексты сообщений, классифицированные неправильно (с указанием фактического и предсказанного)."
   ]
  },
  {
   "cell_type": "code",
   "execution_count": 470,
   "id": "660bf71d",
   "metadata": {},
   "outputs": [],
   "source": [
    "result_df = X_test\n",
    "result_df['predict_class'] = y_predict\n",
    "result_df['index'] = result_df.index.values"
   ]
  },
  {
   "cell_type": "code",
   "execution_count": 471,
   "id": "6b8daeca",
   "metadata": {},
   "outputs": [],
   "source": [
    "result_df = result_df.merge(spam_df, how='left', on='index')"
   ]
  },
  {
   "cell_type": "code",
   "execution_count": 472,
   "id": "36c2763d",
   "metadata": {},
   "outputs": [],
   "source": [
    "error_clf_df = result_df[~(result_df['predict_class'] == result_df['Category'])]"
   ]
  },
  {
   "cell_type": "code",
   "execution_count": 473,
   "id": "fb1f01d5",
   "metadata": {},
   "outputs": [
    {
     "data": {
      "text/html": [
       "<div>\n",
       "<style scoped>\n",
       "    .dataframe tbody tr th:only-of-type {\n",
       "        vertical-align: middle;\n",
       "    }\n",
       "\n",
       "    .dataframe tbody tr th {\n",
       "        vertical-align: top;\n",
       "    }\n",
       "\n",
       "    .dataframe thead th {\n",
       "        text-align: right;\n",
       "    }\n",
       "</style>\n",
       "<table border=\"1\" class=\"dataframe\">\n",
       "  <thead>\n",
       "    <tr style=\"text-align: right;\">\n",
       "      <th></th>\n",
       "      <th>predict_class</th>\n",
       "      <th>Category</th>\n",
       "      <th>Message</th>\n",
       "    </tr>\n",
       "  </thead>\n",
       "  <tbody>\n",
       "    <tr>\n",
       "      <th>17</th>\n",
       "      <td>spam</td>\n",
       "      <td>ham</td>\n",
       "      <td>hey free call</td>\n",
       "    </tr>\n",
       "    <tr>\n",
       "      <th>40</th>\n",
       "      <td>ham</td>\n",
       "      <td>spam</td>\n",
       "      <td>reminder downloaded content already paid goto ...</td>\n",
       "    </tr>\n",
       "    <tr>\n",
       "      <th>47</th>\n",
       "      <td>ham</td>\n",
       "      <td>spam</td>\n",
       "      <td>guess somebody know secretly fancy wanna find ...</td>\n",
       "    </tr>\n",
       "    <tr>\n",
       "      <th>74</th>\n",
       "      <td>ham</td>\n",
       "      <td>spam</td>\n",
       "      <td>oh god found number glad text back xafter msg ...</td>\n",
       "    </tr>\n",
       "    <tr>\n",
       "      <th>84</th>\n",
       "      <td>ham</td>\n",
       "      <td>spam</td>\n",
       "      <td>next amazing xxx picsfree1 video sent enjoy on...</td>\n",
       "    </tr>\n",
       "  </tbody>\n",
       "</table>\n",
       "</div>"
      ],
      "text/plain": [
       "   predict_class Category                                            Message\n",
       "17          spam      ham                                     hey free call \n",
       "40           ham     spam  reminder downloaded content already paid goto ...\n",
       "47           ham     spam  guess somebody know secretly fancy wanna find ...\n",
       "74           ham     spam  oh god found number glad text back xafter msg ...\n",
       "84           ham     spam  next amazing xxx picsfree1 video sent enjoy on..."
      ]
     },
     "execution_count": 473,
     "metadata": {},
     "output_type": "execute_result"
    }
   ],
   "source": [
    "error_clf_df[['predict_class','Category','Message']].head()"
   ]
  },
  {
   "cell_type": "code",
   "execution_count": null,
   "id": "fc1ba14c",
   "metadata": {},
   "outputs": [],
   "source": []
  }
 ],
 "metadata": {
  "kernelspec": {
   "display_name": "Python 3 (ipykernel)",
   "language": "python",
   "name": "python3"
  },
  "language_info": {
   "codemirror_mode": {
    "name": "ipython",
    "version": 3
   },
   "file_extension": ".py",
   "mimetype": "text/x-python",
   "name": "python",
   "nbconvert_exporter": "python",
   "pygments_lexer": "ipython3",
   "version": "3.10.5"
  }
 },
 "nbformat": 4,
 "nbformat_minor": 5
}
