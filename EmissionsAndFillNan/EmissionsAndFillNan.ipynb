{
 "cells": [
  {
   "cell_type": "code",
   "execution_count": 156,
   "id": "539a7e13",
   "metadata": {},
   "outputs": [],
   "source": [
    "import pandas as pd\n",
    "import numpy as np"
   ]
  },
  {
   "cell_type": "markdown",
   "id": "cc713f3e",
   "metadata": {},
   "source": [
    "Будем осуществлять работу с непростым [набором данных](https://raw.githubusercontent.com/obulygin/pyda_homeworks/master/statistics_basics/horse_data.csv) о состоянии здоровья лошадей, испытывающих кишечные колики. Цель – максимально корректно заполнить пропуски."
   ]
  },
  {
   "cell_type": "markdown",
   "id": "4ef11295",
   "metadata": {},
   "source": [
    "## Задание 1. Загрузка данных\n",
    "Изучить представленный набор данных на основе [описания](https://raw.githubusercontent.com/obulygin/pyda_homeworks/master/statistics_basics/horse_data.names) его столбцов, загрузить его и оставить 8 столбцов для дальнейшего изучения: surgery?, Age, rectal temperature, pulse, respiratory rate, temperature of extremities, pain, outcome."
   ]
  },
  {
   "cell_type": "code",
   "execution_count": 158,
   "id": "b50f5aec",
   "metadata": {},
   "outputs": [
    {
     "data": {
      "text/html": [
       "<div>\n",
       "<style scoped>\n",
       "    .dataframe tbody tr th:only-of-type {\n",
       "        vertical-align: middle;\n",
       "    }\n",
       "\n",
       "    .dataframe tbody tr th {\n",
       "        vertical-align: top;\n",
       "    }\n",
       "\n",
       "    .dataframe thead th {\n",
       "        text-align: right;\n",
       "    }\n",
       "</style>\n",
       "<table border=\"1\" class=\"dataframe\">\n",
       "  <thead>\n",
       "    <tr style=\"text-align: right;\">\n",
       "      <th></th>\n",
       "      <th>surgery</th>\n",
       "      <th>age</th>\n",
       "      <th>rectal temperature</th>\n",
       "      <th>pulse</th>\n",
       "      <th>respiratory rate</th>\n",
       "      <th>temperature of extremities</th>\n",
       "      <th>pain</th>\n",
       "      <th>outcome</th>\n",
       "    </tr>\n",
       "  </thead>\n",
       "  <tbody>\n",
       "    <tr>\n",
       "      <th>0</th>\n",
       "      <td>2.0</td>\n",
       "      <td>1</td>\n",
       "      <td>38.5</td>\n",
       "      <td>66.0</td>\n",
       "      <td>28.0</td>\n",
       "      <td>3.0</td>\n",
       "      <td>5.0</td>\n",
       "      <td>2.0</td>\n",
       "    </tr>\n",
       "    <tr>\n",
       "      <th>1</th>\n",
       "      <td>1.0</td>\n",
       "      <td>1</td>\n",
       "      <td>39.2</td>\n",
       "      <td>88.0</td>\n",
       "      <td>20.0</td>\n",
       "      <td>NaN</td>\n",
       "      <td>3.0</td>\n",
       "      <td>3.0</td>\n",
       "    </tr>\n",
       "    <tr>\n",
       "      <th>2</th>\n",
       "      <td>2.0</td>\n",
       "      <td>1</td>\n",
       "      <td>38.3</td>\n",
       "      <td>40.0</td>\n",
       "      <td>24.0</td>\n",
       "      <td>1.0</td>\n",
       "      <td>3.0</td>\n",
       "      <td>1.0</td>\n",
       "    </tr>\n",
       "    <tr>\n",
       "      <th>3</th>\n",
       "      <td>1.0</td>\n",
       "      <td>9</td>\n",
       "      <td>39.1</td>\n",
       "      <td>164.0</td>\n",
       "      <td>84.0</td>\n",
       "      <td>4.0</td>\n",
       "      <td>2.0</td>\n",
       "      <td>2.0</td>\n",
       "    </tr>\n",
       "    <tr>\n",
       "      <th>4</th>\n",
       "      <td>2.0</td>\n",
       "      <td>1</td>\n",
       "      <td>37.3</td>\n",
       "      <td>104.0</td>\n",
       "      <td>35.0</td>\n",
       "      <td>NaN</td>\n",
       "      <td>NaN</td>\n",
       "      <td>2.0</td>\n",
       "    </tr>\n",
       "  </tbody>\n",
       "</table>\n",
       "</div>"
      ],
      "text/plain": [
       "   surgery  age  rectal temperature  pulse  respiratory rate  \\\n",
       "0      2.0    1                38.5   66.0              28.0   \n",
       "1      1.0    1                39.2   88.0              20.0   \n",
       "2      2.0    1                38.3   40.0              24.0   \n",
       "3      1.0    9                39.1  164.0              84.0   \n",
       "4      2.0    1                37.3  104.0              35.0   \n",
       "\n",
       "   temperature of extremities  pain  outcome  \n",
       "0                         3.0   5.0      2.0  \n",
       "1                         NaN   3.0      3.0  \n",
       "2                         1.0   3.0      1.0  \n",
       "3                         4.0   2.0      2.0  \n",
       "4                         NaN   NaN      2.0  "
      ]
     },
     "execution_count": 158,
     "metadata": {},
     "output_type": "execute_result"
    }
   ],
   "source": [
    "df = pd.read_csv(\n",
    "    'https://raw.githubusercontent.com/obulygin/pyda_homeworks/master/statistics_basics/horse_data.csv', \n",
    "    na_values='?',\n",
    "    usecols=[0, 1, 3, 4, 5, 6, 10, 22],\n",
    "    names=['surgery', \n",
    "           'age', \n",
    "           'rectal temperature', \n",
    "           'pulse', \n",
    "           'respiratory rate', \n",
    "           'temperature of extremities', \n",
    "           'pain', \n",
    "           'outcome']\n",
    ")\n",
    "df.head()"
   ]
  },
  {
   "cell_type": "code",
   "execution_count": 159,
   "id": "3804e554",
   "metadata": {},
   "outputs": [
    {
     "name": "stdout",
     "output_type": "stream",
     "text": [
      "<class 'pandas.core.frame.DataFrame'>\n",
      "RangeIndex: 300 entries, 0 to 299\n",
      "Data columns (total 8 columns):\n",
      " #   Column                      Non-Null Count  Dtype  \n",
      "---  ------                      --------------  -----  \n",
      " 0   surgery                     299 non-null    float64\n",
      " 1   age                         300 non-null    int64  \n",
      " 2   rectal temperature          240 non-null    float64\n",
      " 3   pulse                       276 non-null    float64\n",
      " 4   respiratory rate            242 non-null    float64\n",
      " 5   temperature of extremities  244 non-null    float64\n",
      " 6   pain                        245 non-null    float64\n",
      " 7   outcome                     299 non-null    float64\n",
      "dtypes: float64(7), int64(1)\n",
      "memory usage: 18.9 KB\n"
     ]
    }
   ],
   "source": [
    "df.info()"
   ]
  },
  {
   "cell_type": "markdown",
   "id": "36f2fd87",
   "metadata": {},
   "source": [
    "## Задание 2. Первичное изучение данных\n",
    "Проанализировать значения по столбцам, рассчитать базовые статистики, найти выбросы."
   ]
  },
  {
   "cell_type": "markdown",
   "id": "8179626e",
   "metadata": {},
   "source": [
    "### Rectal temperature"
   ]
  },
  {
   "cell_type": "code",
   "execution_count": 160,
   "id": "59f11953",
   "metadata": {},
   "outputs": [
    {
     "name": "stdout",
     "output_type": "stream",
     "text": [
      "38.16791666666669\n",
      "38.2\n"
     ]
    }
   ],
   "source": [
    "\"\"\"\n",
    "У нас совпадает среднее значения и медиана, значит распределение нормальное.\n",
    "Может найти выбросы через межквартильный размах\n",
    "\"\"\"\n",
    "print(df['rectal temperature'].mean())\n",
    "print(df['rectal temperature'].median())"
   ]
  },
  {
   "cell_type": "code",
   "execution_count": 161,
   "id": "9302f81f",
   "metadata": {},
   "outputs": [
    {
     "name": "stderr",
     "output_type": "stream",
     "text": [
      "/var/folders/ln/l54hjc713kxgxkw6rfxxgyh00000gn/T/ipykernel_65640/401298712.py:6: FutureWarning: Boolean inputs to the `inclusive` argument are deprecated in favour of `both` or `neither`.\n",
      "  remove_outliers = df[df['rectal temperature'].between(lower_bound, upper_bound, inclusive=True)]\n"
     ]
    },
    {
     "data": {
      "text/html": [
       "<div>\n",
       "<style scoped>\n",
       "    .dataframe tbody tr th:only-of-type {\n",
       "        vertical-align: middle;\n",
       "    }\n",
       "\n",
       "    .dataframe tbody tr th {\n",
       "        vertical-align: top;\n",
       "    }\n",
       "\n",
       "    .dataframe thead th {\n",
       "        text-align: right;\n",
       "    }\n",
       "</style>\n",
       "<table border=\"1\" class=\"dataframe\">\n",
       "  <thead>\n",
       "    <tr style=\"text-align: right;\">\n",
       "      <th></th>\n",
       "      <th>surgery</th>\n",
       "      <th>age</th>\n",
       "      <th>rectal temperature</th>\n",
       "      <th>pulse</th>\n",
       "      <th>respiratory rate</th>\n",
       "      <th>temperature of extremities</th>\n",
       "      <th>pain</th>\n",
       "      <th>outcome</th>\n",
       "    </tr>\n",
       "  </thead>\n",
       "  <tbody>\n",
       "    <tr>\n",
       "      <th>4</th>\n",
       "      <td>2.0</td>\n",
       "      <td>1</td>\n",
       "      <td>37.3</td>\n",
       "      <td>104.0</td>\n",
       "      <td>35.0</td>\n",
       "      <td>NaN</td>\n",
       "      <td>NaN</td>\n",
       "      <td>2.0</td>\n",
       "    </tr>\n",
       "    <tr>\n",
       "      <th>12</th>\n",
       "      <td>1.0</td>\n",
       "      <td>1</td>\n",
       "      <td>37.2</td>\n",
       "      <td>42.0</td>\n",
       "      <td>12.0</td>\n",
       "      <td>2.0</td>\n",
       "      <td>3.0</td>\n",
       "      <td>1.0</td>\n",
       "    </tr>\n",
       "    <tr>\n",
       "      <th>31</th>\n",
       "      <td>2.0</td>\n",
       "      <td>1</td>\n",
       "      <td>37.2</td>\n",
       "      <td>108.0</td>\n",
       "      <td>12.0</td>\n",
       "      <td>3.0</td>\n",
       "      <td>2.0</td>\n",
       "      <td>3.0</td>\n",
       "    </tr>\n",
       "    <tr>\n",
       "      <th>32</th>\n",
       "      <td>1.0</td>\n",
       "      <td>1</td>\n",
       "      <td>37.2</td>\n",
       "      <td>60.0</td>\n",
       "      <td>NaN</td>\n",
       "      <td>2.0</td>\n",
       "      <td>3.0</td>\n",
       "      <td>1.0</td>\n",
       "    </tr>\n",
       "    <tr>\n",
       "      <th>49</th>\n",
       "      <td>2.0</td>\n",
       "      <td>1</td>\n",
       "      <td>37.2</td>\n",
       "      <td>84.0</td>\n",
       "      <td>48.0</td>\n",
       "      <td>3.0</td>\n",
       "      <td>4.0</td>\n",
       "      <td>2.0</td>\n",
       "    </tr>\n",
       "    <tr>\n",
       "      <th>51</th>\n",
       "      <td>1.0</td>\n",
       "      <td>1</td>\n",
       "      <td>37.4</td>\n",
       "      <td>84.0</td>\n",
       "      <td>36.0</td>\n",
       "      <td>1.0</td>\n",
       "      <td>3.0</td>\n",
       "      <td>2.0</td>\n",
       "    </tr>\n",
       "    <tr>\n",
       "      <th>70</th>\n",
       "      <td>2.0</td>\n",
       "      <td>1</td>\n",
       "      <td>37.0</td>\n",
       "      <td>60.0</td>\n",
       "      <td>20.0</td>\n",
       "      <td>3.0</td>\n",
       "      <td>3.0</td>\n",
       "      <td>3.0</td>\n",
       "    </tr>\n",
       "    <tr>\n",
       "      <th>81</th>\n",
       "      <td>1.0</td>\n",
       "      <td>1</td>\n",
       "      <td>37.3</td>\n",
       "      <td>40.0</td>\n",
       "      <td>NaN</td>\n",
       "      <td>NaN</td>\n",
       "      <td>2.0</td>\n",
       "      <td>1.0</td>\n",
       "    </tr>\n",
       "    <tr>\n",
       "      <th>95</th>\n",
       "      <td>1.0</td>\n",
       "      <td>1</td>\n",
       "      <td>37.3</td>\n",
       "      <td>48.0</td>\n",
       "      <td>20.0</td>\n",
       "      <td>NaN</td>\n",
       "      <td>3.0</td>\n",
       "      <td>1.0</td>\n",
       "    </tr>\n",
       "    <tr>\n",
       "      <th>107</th>\n",
       "      <td>2.0</td>\n",
       "      <td>1</td>\n",
       "      <td>37.3</td>\n",
       "      <td>50.0</td>\n",
       "      <td>32.0</td>\n",
       "      <td>1.0</td>\n",
       "      <td>1.0</td>\n",
       "      <td>1.0</td>\n",
       "    </tr>\n",
       "    <tr>\n",
       "      <th>113</th>\n",
       "      <td>1.0</td>\n",
       "      <td>1</td>\n",
       "      <td>36.8</td>\n",
       "      <td>60.0</td>\n",
       "      <td>28.0</td>\n",
       "      <td>NaN</td>\n",
       "      <td>NaN</td>\n",
       "      <td>2.0</td>\n",
       "    </tr>\n",
       "    <tr>\n",
       "      <th>127</th>\n",
       "      <td>1.0</td>\n",
       "      <td>1</td>\n",
       "      <td>37.4</td>\n",
       "      <td>50.0</td>\n",
       "      <td>32.0</td>\n",
       "      <td>3.0</td>\n",
       "      <td>4.0</td>\n",
       "      <td>1.0</td>\n",
       "    </tr>\n",
       "    <tr>\n",
       "      <th>128</th>\n",
       "      <td>1.0</td>\n",
       "      <td>1</td>\n",
       "      <td>37.4</td>\n",
       "      <td>84.0</td>\n",
       "      <td>20.0</td>\n",
       "      <td>NaN</td>\n",
       "      <td>2.0</td>\n",
       "      <td>3.0</td>\n",
       "    </tr>\n",
       "    <tr>\n",
       "      <th>144</th>\n",
       "      <td>1.0</td>\n",
       "      <td>1</td>\n",
       "      <td>37.1</td>\n",
       "      <td>84.0</td>\n",
       "      <td>40.0</td>\n",
       "      <td>3.0</td>\n",
       "      <td>2.0</td>\n",
       "      <td>3.0</td>\n",
       "    </tr>\n",
       "    <tr>\n",
       "      <th>190</th>\n",
       "      <td>1.0</td>\n",
       "      <td>1</td>\n",
       "      <td>37.1</td>\n",
       "      <td>40.0</td>\n",
       "      <td>8.0</td>\n",
       "      <td>NaN</td>\n",
       "      <td>3.0</td>\n",
       "      <td>1.0</td>\n",
       "    </tr>\n",
       "    <tr>\n",
       "      <th>200</th>\n",
       "      <td>1.0</td>\n",
       "      <td>1</td>\n",
       "      <td>37.3</td>\n",
       "      <td>48.0</td>\n",
       "      <td>12.0</td>\n",
       "      <td>1.0</td>\n",
       "      <td>3.0</td>\n",
       "      <td>1.0</td>\n",
       "    </tr>\n",
       "    <tr>\n",
       "      <th>203</th>\n",
       "      <td>2.0</td>\n",
       "      <td>1</td>\n",
       "      <td>37.2</td>\n",
       "      <td>36.0</td>\n",
       "      <td>9.0</td>\n",
       "      <td>1.0</td>\n",
       "      <td>2.0</td>\n",
       "      <td>1.0</td>\n",
       "    </tr>\n",
       "    <tr>\n",
       "      <th>228</th>\n",
       "      <td>1.0</td>\n",
       "      <td>1</td>\n",
       "      <td>37.3</td>\n",
       "      <td>90.0</td>\n",
       "      <td>40.0</td>\n",
       "      <td>3.0</td>\n",
       "      <td>5.0</td>\n",
       "      <td>3.0</td>\n",
       "    </tr>\n",
       "    <tr>\n",
       "      <th>263</th>\n",
       "      <td>1.0</td>\n",
       "      <td>1</td>\n",
       "      <td>37.1</td>\n",
       "      <td>75.0</td>\n",
       "      <td>36.0</td>\n",
       "      <td>NaN</td>\n",
       "      <td>4.0</td>\n",
       "      <td>2.0</td>\n",
       "    </tr>\n",
       "    <tr>\n",
       "      <th>277</th>\n",
       "      <td>2.0</td>\n",
       "      <td>1</td>\n",
       "      <td>36.9</td>\n",
       "      <td>50.0</td>\n",
       "      <td>40.0</td>\n",
       "      <td>2.0</td>\n",
       "      <td>1.0</td>\n",
       "      <td>1.0</td>\n",
       "    </tr>\n",
       "    <tr>\n",
       "      <th>292</th>\n",
       "      <td>1.0</td>\n",
       "      <td>1</td>\n",
       "      <td>37.0</td>\n",
       "      <td>66.0</td>\n",
       "      <td>20.0</td>\n",
       "      <td>1.0</td>\n",
       "      <td>4.0</td>\n",
       "      <td>2.0</td>\n",
       "    </tr>\n",
       "    <tr>\n",
       "      <th>296</th>\n",
       "      <td>2.0</td>\n",
       "      <td>1</td>\n",
       "      <td>37.2</td>\n",
       "      <td>72.0</td>\n",
       "      <td>24.0</td>\n",
       "      <td>3.0</td>\n",
       "      <td>4.0</td>\n",
       "      <td>3.0</td>\n",
       "    </tr>\n",
       "    <tr>\n",
       "      <th>299</th>\n",
       "      <td>1.0</td>\n",
       "      <td>1</td>\n",
       "      <td>37.2</td>\n",
       "      <td>40.0</td>\n",
       "      <td>20.0</td>\n",
       "      <td>NaN</td>\n",
       "      <td>NaN</td>\n",
       "      <td>3.0</td>\n",
       "    </tr>\n",
       "  </tbody>\n",
       "</table>\n",
       "</div>"
      ],
      "text/plain": [
       "     surgery  age  rectal temperature  pulse  respiratory rate  \\\n",
       "4        2.0    1                37.3  104.0              35.0   \n",
       "12       1.0    1                37.2   42.0              12.0   \n",
       "31       2.0    1                37.2  108.0              12.0   \n",
       "32       1.0    1                37.2   60.0               NaN   \n",
       "49       2.0    1                37.2   84.0              48.0   \n",
       "51       1.0    1                37.4   84.0              36.0   \n",
       "70       2.0    1                37.0   60.0              20.0   \n",
       "81       1.0    1                37.3   40.0               NaN   \n",
       "95       1.0    1                37.3   48.0              20.0   \n",
       "107      2.0    1                37.3   50.0              32.0   \n",
       "113      1.0    1                36.8   60.0              28.0   \n",
       "127      1.0    1                37.4   50.0              32.0   \n",
       "128      1.0    1                37.4   84.0              20.0   \n",
       "144      1.0    1                37.1   84.0              40.0   \n",
       "190      1.0    1                37.1   40.0               8.0   \n",
       "200      1.0    1                37.3   48.0              12.0   \n",
       "203      2.0    1                37.2   36.0               9.0   \n",
       "228      1.0    1                37.3   90.0              40.0   \n",
       "263      1.0    1                37.1   75.0              36.0   \n",
       "277      2.0    1                36.9   50.0              40.0   \n",
       "292      1.0    1                37.0   66.0              20.0   \n",
       "296      2.0    1                37.2   72.0              24.0   \n",
       "299      1.0    1                37.2   40.0              20.0   \n",
       "\n",
       "     temperature of extremities  pain  outcome  \n",
       "4                           NaN   NaN      2.0  \n",
       "12                          2.0   3.0      1.0  \n",
       "31                          3.0   2.0      3.0  \n",
       "32                          2.0   3.0      1.0  \n",
       "49                          3.0   4.0      2.0  \n",
       "51                          1.0   3.0      2.0  \n",
       "70                          3.0   3.0      3.0  \n",
       "81                          NaN   2.0      1.0  \n",
       "95                          NaN   3.0      1.0  \n",
       "107                         1.0   1.0      1.0  \n",
       "113                         NaN   NaN      2.0  \n",
       "127                         3.0   4.0      1.0  \n",
       "128                         NaN   2.0      3.0  \n",
       "144                         3.0   2.0      3.0  \n",
       "190                         NaN   3.0      1.0  \n",
       "200                         1.0   3.0      1.0  \n",
       "203                         1.0   2.0      1.0  \n",
       "228                         3.0   5.0      3.0  \n",
       "263                         NaN   4.0      2.0  \n",
       "277                         2.0   1.0      1.0  \n",
       "292                         1.0   4.0      2.0  \n",
       "296                         3.0   4.0      3.0  \n",
       "299                         NaN   NaN      3.0  "
      ]
     },
     "execution_count": 161,
     "metadata": {},
     "output_type": "execute_result"
    }
   ],
   "source": [
    "q1 = df['rectal temperature'].quantile(0.25)\n",
    "q3 = df['rectal temperature'].quantile(0.75)\n",
    "iqr = q3 - q1\n",
    "lower_bound = q1 - (1.5 * iqr)\n",
    "upper_bound = q3 - (1.5 * iqr)\n",
    "remove_outliers = df[df['rectal temperature'].between(lower_bound, upper_bound, inclusive=True)]\n",
    "remove_outliers"
   ]
  },
  {
   "cell_type": "code",
   "execution_count": 162,
   "id": "52e392e0",
   "metadata": {},
   "outputs": [
    {
     "name": "stdout",
     "output_type": "stream",
     "text": [
      "37.19130434782609\n",
      "37.2\n"
     ]
    }
   ],
   "source": [
    "print(remove_outliers['rectal temperature'].mean())\n",
    "print(remove_outliers['rectal temperature'].median())"
   ]
  },
  {
   "cell_type": "code",
   "execution_count": 163,
   "id": "4b66aab0",
   "metadata": {},
   "outputs": [
    {
     "name": "stdout",
     "output_type": "stream",
     "text": [
      "Mean\n",
      "0.9766123188406013\n",
      "Median\n",
      "1.0\n"
     ]
    }
   ],
   "source": [
    "print('Mean')\n",
    "print(df['rectal temperature'].mean() - remove_outliers['rectal temperature'].mean())\n",
    "print('Median')\n",
    "print(df['rectal temperature'].median() - remove_outliers['rectal temperature'].median())"
   ]
  },
  {
   "cell_type": "code",
   "execution_count": 164,
   "id": "1256aa2e",
   "metadata": {},
   "outputs": [
    {
     "data": {
      "text/plain": [
       "'\\nВывод: выбросы по признаку rectal temperature, влиляют на медиану и среднее значение.\\n'"
      ]
     },
     "execution_count": 164,
     "metadata": {},
     "output_type": "execute_result"
    }
   ],
   "source": [
    "\"\"\"\n",
    "Вывод: выбросы по признаку rectal temperature, влиляют на медиану и среднее значение.\n",
    "\"\"\""
   ]
  },
  {
   "cell_type": "markdown",
   "id": "7fbb1d89",
   "metadata": {},
   "source": [
    "### Pulse"
   ]
  },
  {
   "cell_type": "code",
   "execution_count": 165,
   "id": "dd4da056",
   "metadata": {},
   "outputs": [
    {
     "name": "stdout",
     "output_type": "stream",
     "text": [
      "71.91304347826087\n",
      "64.0\n"
     ]
    }
   ],
   "source": [
    "\"\"\"\n",
    "Распределение ненормальное, найти выбросы через межквартильный размах, тут смысла не имеет,\n",
    "мы получим те же данные.\n",
    "В описании данного признака сказанно, что он может находиться в интервале от 20-40, при\n",
    "этом, если лошадь болеет он может повышаться, а вот до скольки не известно, за край я взял средние значение пульса.\n",
    "\"\"\"\n",
    "print(df['pulse'].mean())\n",
    "print(df['pulse'].median())"
   ]
  },
  {
   "cell_type": "code",
   "execution_count": 166,
   "id": "fb102eb2",
   "metadata": {},
   "outputs": [],
   "source": [
    "remove_outliers = df[df['pulse'].between(20, df['pulse'].mean())]"
   ]
  },
  {
   "cell_type": "code",
   "execution_count": 167,
   "id": "c2952fd8",
   "metadata": {},
   "outputs": [
    {
     "name": "stdout",
     "output_type": "stream",
     "text": [
      "51.55696202531646\n",
      "50.0\n"
     ]
    }
   ],
   "source": [
    "print(remove_outliers['pulse'].mean())\n",
    "print(remove_outliers['pulse'].median())"
   ]
  },
  {
   "cell_type": "code",
   "execution_count": 168,
   "id": "de6964bd",
   "metadata": {},
   "outputs": [
    {
     "data": {
      "text/plain": [
       "'\\nВывод: как мы видим выбросы повлияли на среднее и медиану \\n'"
      ]
     },
     "execution_count": 168,
     "metadata": {},
     "output_type": "execute_result"
    }
   ],
   "source": [
    "\"\"\"\n",
    "Вывод: как мы видим выбросы повлияли на среднее и медиану \n",
    "\"\"\""
   ]
  },
  {
   "cell_type": "markdown",
   "id": "1301c9f8",
   "metadata": {},
   "source": [
    "### Respiratory rate"
   ]
  },
  {
   "cell_type": "code",
   "execution_count": 169,
   "id": "c6066ff6",
   "metadata": {},
   "outputs": [
    {
     "name": "stdout",
     "output_type": "stream",
     "text": [
      "30.417355371900825\n",
      "24.5\n"
     ]
    }
   ],
   "source": [
    "\"\"\"\n",
    "Распределение не нормальное.\n",
    "Я решил действовать следующим образом, в описание признака нам сказанно что диапазон значений от 8 до 10,\n",
    "но еще там написанно что в данный имеется большой разброс. Данные которые попадают в данный диапазон,\n",
    "всего 6 записей. Поэтому за верхний предел выброса я взял среднее округленное значение.\n",
    "\"\"\"\n",
    "print(df['respiratory rate'].mean())\n",
    "print(df['respiratory rate'].median())"
   ]
  },
  {
   "cell_type": "code",
   "execution_count": 170,
   "id": "45e81dbc",
   "metadata": {},
   "outputs": [],
   "source": [
    "remove_outliers = df[df['respiratory rate'].between(8, np.round(df['respiratory rate'].mean(), 0))]"
   ]
  },
  {
   "cell_type": "code",
   "execution_count": 171,
   "id": "3dde9fdb",
   "metadata": {},
   "outputs": [
    {
     "data": {
      "text/plain": [
       "(30.417355371900825, 20.425806451612903)"
      ]
     },
     "execution_count": 171,
     "metadata": {},
     "output_type": "execute_result"
    }
   ],
   "source": [
    "df['respiratory rate'].mean(),  remove_outliers['respiratory rate'].mean()"
   ]
  },
  {
   "cell_type": "code",
   "execution_count": 172,
   "id": "3b72396f",
   "metadata": {},
   "outputs": [
    {
     "data": {
      "text/plain": [
       "(24.5, 20.0)"
      ]
     },
     "execution_count": 172,
     "metadata": {},
     "output_type": "execute_result"
    }
   ],
   "source": [
    "df['respiratory rate'].median(),  remove_outliers['respiratory rate'].median()"
   ]
  },
  {
   "cell_type": "code",
   "execution_count": 173,
   "id": "498a91fa",
   "metadata": {},
   "outputs": [
    {
     "data": {
      "text/plain": [
       "'\\nВ данном случае, выбросы повлияли на медиану и среднее значение.\\n'"
      ]
     },
     "execution_count": 173,
     "metadata": {},
     "output_type": "execute_result"
    }
   ],
   "source": [
    "\"\"\"\n",
    "В данном случае, выбросы повлияли на медиану и среднее значение.\n",
    "\"\"\""
   ]
  },
  {
   "cell_type": "markdown",
   "id": "c719bf47",
   "metadata": {},
   "source": [
    "## Задание 3. Работа с пропусками\n",
    "Рассчитать количество пропусков для всех выбранных столбцов. Принять и обосновать решение о методе заполнения пропусков по каждому столбцу на основе рассчитанных статистик и возможной взаимосвязи значений в них. Сформировать датафрейм, в котором пропуски будут отсутствовать."
   ]
  },
  {
   "cell_type": "code",
   "execution_count": 174,
   "id": "e692ed5f",
   "metadata": {},
   "outputs": [
    {
     "data": {
      "text/plain": [
       "surgery                       0.003333\n",
       "age                           0.000000\n",
       "rectal temperature            0.200000\n",
       "pulse                         0.080000\n",
       "respiratory rate              0.193333\n",
       "temperature of extremities    0.186667\n",
       "pain                          0.183333\n",
       "outcome                       0.003333\n",
       "dtype: float64"
      ]
     },
     "execution_count": 174,
     "metadata": {},
     "output_type": "execute_result"
    }
   ],
   "source": [
    "\"\"\"\n",
    "Мы видим что по столбцам(surgery, pulse, outcome), процент пропусков довольно мал.\n",
    "В данном случае их лучше удалить.\n",
    "\"\"\"\n",
    "df.isna().mean()"
   ]
  },
  {
   "cell_type": "code",
   "execution_count": 175,
   "id": "e69d9ff1",
   "metadata": {},
   "outputs": [
    {
     "data": {
      "text/plain": [
       "surgery                       0.000000\n",
       "age                           0.000000\n",
       "rectal temperature            0.152727\n",
       "pulse                         0.000000\n",
       "respiratory rate              0.145455\n",
       "temperature of extremities    0.170909\n",
       "pain                          0.170909\n",
       "outcome                       0.000000\n",
       "dtype: float64"
      ]
     },
     "execution_count": 175,
     "metadata": {},
     "output_type": "execute_result"
    }
   ],
   "source": [
    "\"\"\"\n",
    "Пропуски удалили.\n",
    "\"\"\"\n",
    "df.dropna(subset=['surgery', 'pulse', 'outcome'], inplace=True)\n",
    "df.isna().mean()"
   ]
  },
  {
   "cell_type": "markdown",
   "id": "5026c59b",
   "metadata": {},
   "source": [
    "### Rectal temperature "
   ]
  },
  {
   "cell_type": "markdown",
   "id": "7ce2465b",
   "metadata": {},
   "source": [
    "Гипотезы:\n",
    "\n",
    "    - У разных возростных групп температура отличается\n",
    "    - Если лошади делали операцию, то среднее значение будет разное."
   ]
  },
  {
   "cell_type": "code",
   "execution_count": 176,
   "id": "e046dd06",
   "metadata": {},
   "outputs": [
    {
     "data": {
      "text/html": [
       "<div>\n",
       "<style scoped>\n",
       "    .dataframe tbody tr th:only-of-type {\n",
       "        vertical-align: middle;\n",
       "    }\n",
       "\n",
       "    .dataframe tbody tr th {\n",
       "        vertical-align: top;\n",
       "    }\n",
       "\n",
       "    .dataframe thead th {\n",
       "        text-align: right;\n",
       "    }\n",
       "</style>\n",
       "<table border=\"1\" class=\"dataframe\">\n",
       "  <thead>\n",
       "    <tr style=\"text-align: right;\">\n",
       "      <th></th>\n",
       "      <th>rectal temperature</th>\n",
       "    </tr>\n",
       "    <tr>\n",
       "      <th>surgery</th>\n",
       "      <th></th>\n",
       "    </tr>\n",
       "  </thead>\n",
       "  <tbody>\n",
       "    <tr>\n",
       "      <th>1.0</th>\n",
       "      <td>38.125185</td>\n",
       "    </tr>\n",
       "    <tr>\n",
       "      <th>2.0</th>\n",
       "      <td>38.190816</td>\n",
       "    </tr>\n",
       "  </tbody>\n",
       "</table>\n",
       "</div>"
      ],
      "text/plain": [
       "         rectal temperature\n",
       "surgery                    \n",
       "1.0               38.125185\n",
       "2.0               38.190816"
      ]
     },
     "execution_count": 176,
     "metadata": {},
     "output_type": "execute_result"
    }
   ],
   "source": [
    "df.groupby('surgery').agg({'rectal temperature': 'mean'})"
   ]
  },
  {
   "cell_type": "code",
   "execution_count": 177,
   "id": "f8122e9b",
   "metadata": {},
   "outputs": [
    {
     "data": {
      "text/html": [
       "<div>\n",
       "<style scoped>\n",
       "    .dataframe tbody tr th:only-of-type {\n",
       "        vertical-align: middle;\n",
       "    }\n",
       "\n",
       "    .dataframe tbody tr th {\n",
       "        vertical-align: top;\n",
       "    }\n",
       "\n",
       "    .dataframe thead th {\n",
       "        text-align: right;\n",
       "    }\n",
       "</style>\n",
       "<table border=\"1\" class=\"dataframe\">\n",
       "  <thead>\n",
       "    <tr style=\"text-align: right;\">\n",
       "      <th></th>\n",
       "      <th>rectal temperature</th>\n",
       "    </tr>\n",
       "    <tr>\n",
       "      <th>age</th>\n",
       "      <th></th>\n",
       "    </tr>\n",
       "  </thead>\n",
       "  <tbody>\n",
       "    <tr>\n",
       "      <th>1</th>\n",
       "      <td>38.106573</td>\n",
       "    </tr>\n",
       "    <tr>\n",
       "      <th>9</th>\n",
       "      <td>38.645000</td>\n",
       "    </tr>\n",
       "  </tbody>\n",
       "</table>\n",
       "</div>"
      ],
      "text/plain": [
       "     rectal temperature\n",
       "age                    \n",
       "1             38.106573\n",
       "9             38.645000"
      ]
     },
     "execution_count": 177,
     "metadata": {},
     "output_type": "execute_result"
    }
   ],
   "source": [
    "df.groupby('age').agg({'rectal temperature': 'mean'})"
   ]
  },
  {
   "cell_type": "markdown",
   "id": "b4c6f317",
   "metadata": {},
   "source": [
    "Мы видим, что в первом случае средняя температура практически не отличается, а во втором случае на 0.5 градуса.\n",
    "\n",
    "Поэтому, можно сделать заполненить пропуски среднем значением по группам"
   ]
  },
  {
   "cell_type": "code",
   "execution_count": 178,
   "id": "507048fd",
   "metadata": {},
   "outputs": [],
   "source": [
    "fill_hourse_data = df.copy()\n",
    "fill_hourse_data['rectal temperature'] = fill_hourse_data['rectal temperature'] \\\n",
    "    .fillna(df.groupby('age')['rectal temperature'].transform('mean'))"
   ]
  },
  {
   "cell_type": "code",
   "execution_count": 179,
   "id": "c35e93a3",
   "metadata": {},
   "outputs": [
    {
     "name": "stdout",
     "output_type": "stream",
     "text": [
      "38.15278969957084 38.14964694835684\n"
     ]
    }
   ],
   "source": [
    "print(df['rectal temperature'].mean(), fill_hourse_data['rectal temperature'].mean())"
   ]
  },
  {
   "cell_type": "markdown",
   "id": "6b19b269",
   "metadata": {},
   "source": [
    "Cреднее значение практически не изменилось."
   ]
  },
  {
   "cell_type": "markdown",
   "id": "3bdbf963",
   "metadata": {},
   "source": [
    "### Respiratory rate"
   ]
  },
  {
   "cell_type": "markdown",
   "id": "8238ab85",
   "metadata": {},
   "source": [
    "Гипотеза:\n",
    "\n",
    "    - Среднее значение у разных возростных групп, разное в зависимости от того делали ли им операцию или нет."
   ]
  },
  {
   "cell_type": "code",
   "execution_count": 180,
   "id": "3b309b8b",
   "metadata": {},
   "outputs": [
    {
     "data": {
      "text/html": [
       "<div>\n",
       "<style scoped>\n",
       "    .dataframe tbody tr th:only-of-type {\n",
       "        vertical-align: middle;\n",
       "    }\n",
       "\n",
       "    .dataframe tbody tr th {\n",
       "        vertical-align: top;\n",
       "    }\n",
       "\n",
       "    .dataframe thead th {\n",
       "        text-align: right;\n",
       "    }\n",
       "</style>\n",
       "<table border=\"1\" class=\"dataframe\">\n",
       "  <thead>\n",
       "    <tr style=\"text-align: right;\">\n",
       "      <th></th>\n",
       "      <th></th>\n",
       "      <th>respiratory rate</th>\n",
       "    </tr>\n",
       "    <tr>\n",
       "      <th>age</th>\n",
       "      <th>surgery</th>\n",
       "      <th></th>\n",
       "    </tr>\n",
       "  </thead>\n",
       "  <tbody>\n",
       "    <tr>\n",
       "      <th rowspan=\"2\" valign=\"top\">1</th>\n",
       "      <th>1.0</th>\n",
       "      <td>30.600000</td>\n",
       "    </tr>\n",
       "    <tr>\n",
       "      <th>2.0</th>\n",
       "      <td>25.344444</td>\n",
       "    </tr>\n",
       "    <tr>\n",
       "      <th rowspan=\"2\" valign=\"top\">9</th>\n",
       "      <th>1.0</th>\n",
       "      <td>59.333333</td>\n",
       "    </tr>\n",
       "    <tr>\n",
       "      <th>2.0</th>\n",
       "      <td>40.400000</td>\n",
       "    </tr>\n",
       "  </tbody>\n",
       "</table>\n",
       "</div>"
      ],
      "text/plain": [
       "             respiratory rate\n",
       "age surgery                  \n",
       "1   1.0             30.600000\n",
       "    2.0             25.344444\n",
       "9   1.0             59.333333\n",
       "    2.0             40.400000"
      ]
     },
     "execution_count": 180,
     "metadata": {},
     "output_type": "execute_result"
    }
   ],
   "source": [
    "fill_hourse_data.groupby(['age', 'surgery']).agg({'respiratory rate': 'mean'})"
   ]
  },
  {
   "cell_type": "markdown",
   "id": "9b65d898",
   "metadata": {},
   "source": [
    "Мы выяснили, что это действительно так."
   ]
  },
  {
   "cell_type": "code",
   "execution_count": 181,
   "id": "76bc06d7",
   "metadata": {},
   "outputs": [],
   "source": [
    "fill_hourse_data['respiratory rate'] = fill_hourse_data['respiratory rate'] \\\n",
    "    .fillna(fill_hourse_data.groupby(['age', 'surgery'])['respiratory rate'].transform('mean'))"
   ]
  },
  {
   "cell_type": "code",
   "execution_count": 182,
   "id": "625357d7",
   "metadata": {},
   "outputs": [
    {
     "data": {
      "text/html": [
       "<div>\n",
       "<style scoped>\n",
       "    .dataframe tbody tr th:only-of-type {\n",
       "        vertical-align: middle;\n",
       "    }\n",
       "\n",
       "    .dataframe tbody tr th {\n",
       "        vertical-align: top;\n",
       "    }\n",
       "\n",
       "    .dataframe thead th {\n",
       "        text-align: right;\n",
       "    }\n",
       "</style>\n",
       "<table border=\"1\" class=\"dataframe\">\n",
       "  <thead>\n",
       "    <tr style=\"text-align: right;\">\n",
       "      <th></th>\n",
       "      <th></th>\n",
       "      <th>respiratory rate</th>\n",
       "    </tr>\n",
       "    <tr>\n",
       "      <th>age</th>\n",
       "      <th>surgery</th>\n",
       "      <th></th>\n",
       "    </tr>\n",
       "  </thead>\n",
       "  <tbody>\n",
       "    <tr>\n",
       "      <th rowspan=\"2\" valign=\"top\">1</th>\n",
       "      <th>1.0</th>\n",
       "      <td>30.600000</td>\n",
       "    </tr>\n",
       "    <tr>\n",
       "      <th>2.0</th>\n",
       "      <td>25.344444</td>\n",
       "    </tr>\n",
       "    <tr>\n",
       "      <th rowspan=\"2\" valign=\"top\">9</th>\n",
       "      <th>1.0</th>\n",
       "      <td>59.333333</td>\n",
       "    </tr>\n",
       "    <tr>\n",
       "      <th>2.0</th>\n",
       "      <td>40.400000</td>\n",
       "    </tr>\n",
       "  </tbody>\n",
       "</table>\n",
       "</div>"
      ],
      "text/plain": [
       "             respiratory rate\n",
       "age surgery                  \n",
       "1   1.0             30.600000\n",
       "    2.0             25.344444\n",
       "9   1.0             59.333333\n",
       "    2.0             40.400000"
      ]
     },
     "execution_count": 182,
     "metadata": {},
     "output_type": "execute_result"
    }
   ],
   "source": [
    "fill_hourse_data.groupby(['age', 'surgery']).agg({'respiratory rate': 'mean'})"
   ]
  },
  {
   "cell_type": "markdown",
   "id": "e0eba24c",
   "metadata": {},
   "source": [
    "Заполнение выполнено корректно."
   ]
  },
  {
   "cell_type": "markdown",
   "id": "23d23584",
   "metadata": {},
   "source": [
    "### Temperature of extremities"
   ]
  },
  {
   "cell_type": "code",
   "execution_count": 183,
   "id": "496f0eb1",
   "metadata": {},
   "outputs": [
    {
     "data": {
      "text/plain": [
       "3.0    98\n",
       "1.0    76\n",
       "2.0    29\n",
       "4.0    25\n",
       "Name: temperature of extremities, dtype: int64"
      ]
     },
     "execution_count": 183,
     "metadata": {},
     "output_type": "execute_result"
    }
   ],
   "source": [
    "fill_hourse_data['temperature of extremities'].value_counts()"
   ]
  },
  {
   "cell_type": "markdown",
   "id": "51754d90",
   "metadata": {},
   "source": [
    "По данному признакому я не нашел зависимостей.\n",
    "Поэтому решил заполнить их модальным значением."
   ]
  },
  {
   "cell_type": "code",
   "execution_count": 185,
   "id": "c0d31a82",
   "metadata": {},
   "outputs": [],
   "source": [
    "fill_hourse_data['temperature of extremities'] = fill_hourse_data['temperature of extremities'] \\\n",
    "    .fillna(fill_hourse_data['temperature of extremities'].mode()[0])"
   ]
  },
  {
   "cell_type": "code",
   "execution_count": 186,
   "id": "44713deb",
   "metadata": {},
   "outputs": [
    {
     "data": {
      "text/plain": [
       "3.0    145\n",
       "1.0     76\n",
       "2.0     29\n",
       "4.0     25\n",
       "Name: temperature of extremities, dtype: int64"
      ]
     },
     "execution_count": 186,
     "metadata": {},
     "output_type": "execute_result"
    }
   ],
   "source": [
    "fill_hourse_data['temperature of extremities'].value_counts()"
   ]
  },
  {
   "cell_type": "markdown",
   "id": "36bde747",
   "metadata": {},
   "source": [
    "### Pain"
   ]
  },
  {
   "cell_type": "code",
   "execution_count": 187,
   "id": "b91cb0d4",
   "metadata": {},
   "outputs": [
    {
     "data": {
      "text/plain": [
       "3.0    65\n",
       "2.0    57\n",
       "1.0    37\n",
       "5.0    35\n",
       "4.0    34\n",
       "Name: pain, dtype: int64"
      ]
     },
     "execution_count": 187,
     "metadata": {},
     "output_type": "execute_result"
    }
   ],
   "source": [
    "fill_hourse_data['pain'].value_counts()"
   ]
  },
  {
   "cell_type": "markdown",
   "id": "b4dd1b73",
   "metadata": {},
   "source": [
    "Тут я так же не могу определить зависимости, можно заполнить модой."
   ]
  },
  {
   "cell_type": "code",
   "execution_count": 188,
   "id": "84bff2e6",
   "metadata": {},
   "outputs": [],
   "source": [
    "fill_hourse_data['pain'] = fill_hourse_data['pain'].fillna(fill_hourse_data['pain'].mode()[0])"
   ]
  },
  {
   "cell_type": "code",
   "execution_count": null,
   "id": "9b665bdb",
   "metadata": {},
   "outputs": [],
   "source": []
  }
 ],
 "metadata": {
  "kernelspec": {
   "display_name": "Python 3.10.5 64-bit",
   "language": "python",
   "name": "python3"
  },
  "language_info": {
   "codemirror_mode": {
    "name": "ipython",
    "version": 3
   },
   "file_extension": ".py",
   "mimetype": "text/x-python",
   "name": "python",
   "nbconvert_exporter": "python",
   "pygments_lexer": "ipython3",
   "version": "3.10.5"
  },
  "vscode": {
   "interpreter": {
    "hash": "aee8b7b246df8f9039afb4144a1f6fd8d2ca17a180786b69acc140d282b71a49"
   }
  }
 },
 "nbformat": 4,
 "nbformat_minor": 5
}
